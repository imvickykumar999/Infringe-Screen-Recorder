{
 "cells": [
  {
   "cell_type": "markdown",
   "metadata": {},
   "source": [
    "### https://www.geeksforgeeks.org/collecting-data-with-google-forms-and-pandas/"
   ]
  },
  {
   "cell_type": "markdown",
   "metadata": {},
   "source": [
    "### https://www.analyticsvidhya.com/blog/2020/07/read-and-update-google-spreadsheets-with-python/"
   ]
  },
  {
   "cell_type": "markdown",
   "metadata": {},
   "source": [
    "### https://www.youtube.com/watch?v=7dGPLKD-FeM"
   ]
  },
  {
   "cell_type": "code",
   "execution_count": 1,
   "metadata": {
    "scrolled": true
   },
   "outputs": [],
   "source": [
    "# !pip3 install gspread\n",
    "# !pip3 install --upgrade google-api-python-client oauth2client "
   ]
  },
  {
   "cell_type": "code",
   "execution_count": 2,
   "metadata": {
    "scrolled": true
   },
   "outputs": [],
   "source": [
    "# importing the required libraries\n",
    "import gspread\n",
    "import pandas as pd\n",
    "from oauth2client.service_account import ServiceAccountCredentials"
   ]
  },
  {
   "cell_type": "code",
   "execution_count": 3,
   "metadata": {},
   "outputs": [
    {
     "data": {
      "text/plain": [
       "<gspread.client.Client at 0x1923c7a26d0>"
      ]
     },
     "execution_count": 3,
     "metadata": {},
     "output_type": "execute_result"
    }
   ],
   "source": [
    "# define the scope\n",
    "scope = ['https://spreadsheets.google.com/feeds',\n",
    "         'https://www.googleapis.com/auth/drive',\n",
    "        ]\n",
    "\n",
    "jfile = 'client_secrets.json'\n",
    "\n",
    "# add credentials to the account\n",
    "creds = ServiceAccountCredentials.from_json_keyfile_name(jfile, scope)\n",
    "\n",
    "# authorize the clientsheet \n",
    "client = gspread.authorize(creds)\n",
    "client"
   ]
  },
  {
   "cell_type": "code",
   "execution_count": 4,
   "metadata": {},
   "outputs": [
    {
     "name": "stdout",
     "output_type": "stream",
     "text": [
      "Help on Client in module gspread.client object:\n",
      "\n",
      "class Client(builtins.object)\n",
      " |  Client(auth, session=None)\n",
      " |  \n",
      " |  An instance of this class communicates with Google API.\n",
      " |  \n",
      " |  :param auth: An OAuth2 credential object. Credential objects\n",
      " |      created by `google-auth <https://github.com/googleapis/google-auth-library-python>`_.\n",
      " |  \n",
      " |  :param session: (optional) A session object capable of making HTTP requests\n",
      " |      while persisting some parameters across requests.\n",
      " |      Defaults to `google.auth.transport.requests.AuthorizedSession <https://google-auth.readthedocs.io/en/latest/reference/google.auth.transport.requests.html#google.auth.transport.requests.AuthorizedSession>`_.\n",
      " |  \n",
      " |  >>> c = gspread.Client(auth=OAuthCredentialObject)\n",
      " |  \n",
      " |  Methods defined here:\n",
      " |  \n",
      " |  __init__(self, auth, session=None)\n",
      " |      Initialize self.  See help(type(self)) for accurate signature.\n",
      " |  \n",
      " |  copy(self, file_id, title=None, copy_permissions=False, folder_id=None)\n",
      " |      Copies a spreadsheet.\n",
      " |      \n",
      " |      :param str file_id: A key of a spreadsheet to copy.\n",
      " |      :param str title: (optional) A title for the new spreadsheet.\n",
      " |      \n",
      " |      :param bool copy_permissions: (optional) If True, copy permissions from\n",
      " |          the original spreadsheet to the new spreadsheet.\n",
      " |      \n",
      " |      :param str folder_id: Id of the folder where we want to save\n",
      " |          the spreadsheet.\n",
      " |      \n",
      " |      :returns: a :class:`~gspread.models.Spreadsheet` instance.\n",
      " |      \n",
      " |      .. versionadded:: 3.1.0\n",
      " |      \n",
      " |      .. note::\n",
      " |      \n",
      " |         If you're using custom credentials without the Drive scope, you need to add \n",
      " |         ``https://www.googleapis.com/auth/drive`` to your OAuth scope in order to use \n",
      " |         this method.\n",
      " |      \n",
      " |         Example::\n",
      " |      \n",
      " |            scope = [\n",
      " |                'https://www.googleapis.com/auth/spreadsheets',\n",
      " |                'https://www.googleapis.com/auth/drive'\n",
      " |            ]\n",
      " |      \n",
      " |         Otherwise, you will get an ``Insufficient Permission`` error\n",
      " |         when you try to copy a spreadsheet.\n",
      " |  \n",
      " |  create(self, title, folder_id=None)\n",
      " |      Creates a new spreadsheet.\n",
      " |      \n",
      " |      :param str title: A title of a new spreadsheet.\n",
      " |      \n",
      " |      :param str folder_id: Id of the folder where we want to save\n",
      " |          the spreadsheet.\n",
      " |      \n",
      " |      :returns: a :class:`~gspread.models.Spreadsheet` instance.\n",
      " |  \n",
      " |  del_spreadsheet(self, file_id)\n",
      " |      Deletes a spreadsheet.\n",
      " |      \n",
      " |      :param str file_id: a spreadsheet ID (a.k.a file ID).\n",
      " |  \n",
      " |  import_csv(self, file_id, data)\n",
      " |      Imports data into the first page of the spreadsheet.\n",
      " |      \n",
      " |      :param str data: A CSV string of data.\n",
      " |      \n",
      " |      Example:\n",
      " |      \n",
      " |      .. code::\n",
      " |      \n",
      " |          # Read CSV file contents\n",
      " |          content = open('file_to_import.csv', 'r').read()\n",
      " |      \n",
      " |          gc.import_csv(spreadsheet.id, content)\n",
      " |      \n",
      " |      .. note::\n",
      " |      \n",
      " |         This method removes all other worksheets and then entirely\n",
      " |         replaces the contents of the first worksheet.\n",
      " |  \n",
      " |  insert_permission(self, file_id, value, perm_type, role, notify=True, email_message=None, with_link=False)\n",
      " |      Creates a new permission for a file.\n",
      " |      \n",
      " |      :param str file_id: a spreadsheet ID (aka file ID).\n",
      " |      :param value: user or group e-mail address, domain name\n",
      " |          or None for 'default' type.\n",
      " |      :type value: str, None\n",
      " |      :param str perm_type: (optional) The account type.\n",
      " |          Allowed values are: ``user``, ``group``, ``domain``, ``anyone``\n",
      " |      :param str role: (optional) The primary role for this user.\n",
      " |          Allowed values are: ``owner``, ``writer``, ``reader``\n",
      " |      :param str notify: (optional) Whether to send an email to the target\n",
      " |          user/domain.\n",
      " |      :param str email_message: (optional) An email message to be sent\n",
      " |          if ``notify=True``.\n",
      " |      :param bool with_link: (optional) Whether the link is required for this\n",
      " |          permission to be active.\n",
      " |      \n",
      " |      Examples::\n",
      " |      \n",
      " |          # Give write permissions to otto@example.com\n",
      " |      \n",
      " |          gc.insert_permission(\n",
      " |              '0BmgG6nO_6dprnRRUWl1UFE',\n",
      " |              'otto@example.org',\n",
      " |              perm_type='user',\n",
      " |              role='writer'\n",
      " |          )\n",
      " |      \n",
      " |          # Make the spreadsheet publicly readable\n",
      " |      \n",
      " |          gc.insert_permission(\n",
      " |              '0BmgG6nO_6dprnRRUWl1UFE',\n",
      " |              None,\n",
      " |              perm_type='anyone',\n",
      " |              role='reader'\n",
      " |          )\n",
      " |  \n",
      " |  list_permissions(self, file_id)\n",
      " |      Retrieve a list of permissions for a file.\n",
      " |      \n",
      " |      :param str file_id: a spreadsheet ID (aka file ID).\n",
      " |  \n",
      " |  list_spreadsheet_files(self, title=None)\n",
      " |  \n",
      " |  login(self)\n",
      " |  \n",
      " |  open(self, title)\n",
      " |      Opens a spreadsheet.\n",
      " |      \n",
      " |      :param str title: A title of a spreadsheet.\n",
      " |      :returns: a :class:`~gspread.models.Spreadsheet` instance.\n",
      " |      \n",
      " |      If there's more than one spreadsheet with same title the first one\n",
      " |      will be opened.\n",
      " |      \n",
      " |      :raises gspread.SpreadsheetNotFound: if no spreadsheet with\n",
      " |                                           specified `title` is found.\n",
      " |      \n",
      " |      >>> gc.open('My fancy spreadsheet')\n",
      " |  \n",
      " |  open_by_key(self, key)\n",
      " |      Opens a spreadsheet specified by `key` (a.k.a Spreadsheet ID).\n",
      " |      \n",
      " |      :param str key: A key of a spreadsheet as it appears in a URL in a browser.\n",
      " |      :returns: a :class:`~gspread.models.Spreadsheet` instance.\n",
      " |      \n",
      " |      >>> gc.open_by_key('0BmgG6nO_6dprdS1MN3d3MkdPa142WFRrdnRRUWl1UFE')\n",
      " |  \n",
      " |  open_by_url(self, url)\n",
      " |      Opens a spreadsheet specified by `url`.\n",
      " |      \n",
      " |      :param str url: URL of a spreadsheet as it appears in a browser.\n",
      " |      \n",
      " |      :returns: a :class:`~gspread.models.Spreadsheet` instance.\n",
      " |      \n",
      " |      :raises gspread.SpreadsheetNotFound: if no spreadsheet with\n",
      " |                                           specified `url` is found.\n",
      " |      \n",
      " |      >>> gc.open_by_url('https://docs.google.com/spreadsheet/ccc?key=0Bm...FE&hl')\n",
      " |  \n",
      " |  openall(self, title=None)\n",
      " |      Opens all available spreadsheets.\n",
      " |      \n",
      " |      :param str title: (optional) If specified can be used to filter\n",
      " |          spreadsheets by title.\n",
      " |      \n",
      " |      :returns: a list of :class:`~gspread.models.Spreadsheet` instances.\n",
      " |  \n",
      " |  remove_permission(self, file_id, permission_id)\n",
      " |      Deletes a permission from a file.\n",
      " |      \n",
      " |      :param str file_id: a spreadsheet ID (aka file ID.)\n",
      " |      :param str permission_id: an ID for the permission.\n",
      " |  \n",
      " |  request(self, method, endpoint, params=None, data=None, json=None, files=None, headers=None)\n",
      " |  \n",
      " |  ----------------------------------------------------------------------\n",
      " |  Data descriptors defined here:\n",
      " |  \n",
      " |  __dict__\n",
      " |      dictionary for instance variables (if defined)\n",
      " |  \n",
      " |  __weakref__\n",
      " |      list of weak references to the object (if defined)\n",
      "\n"
     ]
    }
   ],
   "source": [
    "help(client)"
   ]
  },
  {
   "cell_type": "code",
   "execution_count": 5,
   "metadata": {},
   "outputs": [
    {
     "data": {
      "text/plain": [
       "[<Spreadsheet 'Party Invite (Responses)' id:1-ioZulYTYkRypOe6sKYjuxOHWq1UWg2DwYNe8J9jQhc>,\n",
       " <Spreadsheet 'Contact Information (Responses)' id:1E-SpPEszLcyEysQNHAB12LfCIhj_v0HRbRHs21msd7Y>]"
      ]
     },
     "execution_count": 5,
     "metadata": {},
     "output_type": "execute_result"
    }
   ],
   "source": [
    "coall = client.openall()\n",
    "coall"
   ]
  },
  {
   "cell_type": "code",
   "execution_count": 40,
   "metadata": {},
   "outputs": [],
   "source": [
    "# sheet_id = '1E-SpPEszLcyEysQNHAB12LfCIhj_v0HRbRHs21msd7Y'\n",
    "# cobk = client.open_by_key(sheet_id)\n",
    "# cobk"
   ]
  },
  {
   "cell_type": "code",
   "execution_count": 38,
   "metadata": {},
   "outputs": [
    {
     "data": {
      "text/plain": [
       "<Spreadsheet 'Party Invite (Responses)' id:1-ioZulYTYkRypOe6sKYjuxOHWq1UWg2DwYNe8J9jQhc>"
      ]
     },
     "execution_count": 38,
     "metadata": {},
     "output_type": "execute_result"
    }
   ],
   "source": [
    "sheet = client.open_by_url('https://docs.google.com/spreadsheets/d/1-ioZulYTYkRypOe6sKYjuxOHWq1UWg2DwYNe8J9jQhc/edit?resourcekey#gid=757807882') \n",
    "sheet"
   ]
  },
  {
   "cell_type": "code",
   "execution_count": 39,
   "metadata": {},
   "outputs": [],
   "source": [
    "# sheet = client.open('Contact Information (Responses)')\n",
    "# sheet"
   ]
  },
  {
   "cell_type": "code",
   "execution_count": 31,
   "metadata": {},
   "outputs": [
    {
     "name": "stdout",
     "output_type": "stream",
     "text": [
      "Help on Spreadsheet in module gspread.models object:\n",
      "\n",
      "class Spreadsheet(builtins.object)\n",
      " |  Spreadsheet(client, properties)\n",
      " |  \n",
      " |  The class that represents a spreadsheet.\n",
      " |  \n",
      " |  Methods defined here:\n",
      " |  \n",
      " |  __init__(self, client, properties)\n",
      " |      Initialize self.  See help(type(self)) for accurate signature.\n",
      " |  \n",
      " |  __iter__(self)\n",
      " |  \n",
      " |  __repr__(self)\n",
      " |      Return repr(self).\n",
      " |  \n",
      " |  add_worksheet(self, title, rows, cols, index=None)\n",
      " |      Adds a new worksheet to a spreadsheet.\n",
      " |      \n",
      " |      :param title: A title of a new worksheet.\n",
      " |      :type title: str\n",
      " |      :param rows: Number of rows.\n",
      " |      :type rows: int\n",
      " |      :param cols: Number of columns.\n",
      " |      :type cols: int\n",
      " |      :param index: Position of the sheet.\n",
      " |      :type index: int\n",
      " |      \n",
      " |      :returns: a newly created :class:`worksheets <gspread.models.Worksheet>`.\n",
      " |  \n",
      " |  batch_update(self, body)\n",
      " |      Lower-level method that directly calls `spreadsheets.batchUpdate <https://developers.google.com/sheets/api/reference/rest/v4/spreadsheets/batchUpdate>`_.\n",
      " |      \n",
      " |      :param dict body: `Request body <https://developers.google.com/sheets/api/reference/rest/v4/spreadsheets/batchUpdate#request-body>`_.\n",
      " |      :returns: `Response body <https://developers.google.com/sheets/api/reference/rest/v4/spreadsheets/batchUpdate#response-body>`_.\n",
      " |      :rtype: dict\n",
      " |      \n",
      " |      .. versionadded:: 3.0\n",
      " |  \n",
      " |  del_worksheet(self, worksheet)\n",
      " |      Deletes a worksheet from a spreadsheet.\n",
      " |      \n",
      " |      :param worksheet: The worksheet to be deleted.\n",
      " |      :type worksheet: :class:`~gspread.Worksheet`\n",
      " |  \n",
      " |  duplicate_sheet(self, source_sheet_id, insert_sheet_index=None, new_sheet_id=None, new_sheet_name=None)\n",
      " |      Duplicates the contents of a sheet.\n",
      " |      \n",
      " |      :param int source_sheet_id: The sheet ID to duplicate.\n",
      " |      :param int insert_sheet_index: (optional) The zero-based index\n",
      " |                                     where the new sheet should be inserted.\n",
      " |                                     The index of all sheets after this are\n",
      " |                                     incremented.\n",
      " |      :param int new_sheet_id: (optional) The ID of the new sheet.\n",
      " |                               If not set, an ID is chosen. If set, the ID\n",
      " |                               must not conflict with any existing sheet ID.\n",
      " |                               If set, it must be non-negative.\n",
      " |      :param str new_sheet_name: (optional) The name of the new sheet.\n",
      " |                                 If empty, a new name is chosen for you.\n",
      " |      \n",
      " |      :returns: a newly created :class:`<gspread.models.Worksheet>`.\n",
      " |      \n",
      " |      .. versionadded:: 3.1\n",
      " |  \n",
      " |  fetch_sheet_metadata(self, params=None)\n",
      " |  \n",
      " |  get_worksheet(self, index)\n",
      " |      Returns a worksheet with specified `index`.\n",
      " |      \n",
      " |      :param index: An index of a worksheet. Indexes start from zero.\n",
      " |      :type index: int\n",
      " |      \n",
      " |      :returns: an instance of :class:`gspread.models.Worksheet`.\n",
      " |      \n",
      " |      :raises:\n",
      " |          WorksheetNotFound: if can't find the worksheet\n",
      " |      \n",
      " |      Example. To get third worksheet of a spreadsheet:\n",
      " |      \n",
      " |      >>> sht = client.open('My fancy spreadsheet')\n",
      " |      >>> worksheet = sht.get_worksheet(2)\n",
      " |  \n",
      " |  get_worksheet_by_id(self, id)\n",
      " |      Returns a worksheet with specified `worksheet id`.\n",
      " |      \n",
      " |      :param id: The id of a worksheet. it can be seen in the url as the value of the parameter 'gid'.\n",
      " |      :type id: int\n",
      " |      \n",
      " |      :returns: an instance of :class:`gspread.models.Worksheet`.\n",
      " |      :raises:\n",
      " |          WorksheetNotFound: if can't find the worksheet\n",
      " |      \n",
      " |      Example. To get the worksheet 123456 of a spreadsheet:\n",
      " |      \n",
      " |      >>> sht = client.open('My fancy spreadsheet')\n",
      " |      >>> worksheet = sht.get_worksheet_by_id(123456)\n",
      " |  \n",
      " |  list_permissions(self)\n",
      " |      Lists the spreadsheet's permissions.\n",
      " |  \n",
      " |  remove_permissions(self, value, role='any')\n",
      " |      Remove permissions from a user or domain.\n",
      " |      \n",
      " |      :param value: User or domain to remove permissions from\n",
      " |      :type value: str\n",
      " |      :param role: (optional) Permission to remove. Defaults to all\n",
      " |                   permissions.\n",
      " |      :type role: str\n",
      " |      \n",
      " |      Example::\n",
      " |      \n",
      " |          # Remove Otto's write permission for this spreadsheet\n",
      " |          sh.remove_permissions('otto@example.com', role='writer')\n",
      " |      \n",
      " |          # Remove all Otto's permissions for this spreadsheet\n",
      " |          sh.remove_permissions('otto@example.com')\n",
      " |  \n",
      " |  reorder_worksheets(self, worksheets_in_desired_order)\n",
      " |      Updates the ``index`` property of each Worksheets to reflect\n",
      " |      its index in the provided sequence of Worksheets.\n",
      " |      \n",
      " |      :param worksheets_in_desired_order: Iterable of Worksheet objects in desired order.\n",
      " |      \n",
      " |      Note: If you omit some of the Spreadsheet's existing Worksheet objects from\n",
      " |      the provided sequence, those Worksheets will be appended to the end of the sequence\n",
      " |      in the order that they appear in the list returned by ``Spreadsheet.worksheets()``.\n",
      " |      \n",
      " |      .. versionadded:: 3.4\n",
      " |  \n",
      " |  share(self, value, perm_type, role, notify=True, email_message=None, with_link=False)\n",
      " |      Share the spreadsheet with other accounts.\n",
      " |      \n",
      " |      :param value: user or group e-mail address, domain name\n",
      " |                    or None for 'default' type.\n",
      " |      :type value: str, None\n",
      " |      :param perm_type: The account type.\n",
      " |             Allowed values are: ``user``, ``group``, ``domain``,\n",
      " |             ``anyone``.\n",
      " |      :type perm_type: str\n",
      " |      :param role: The primary role for this user.\n",
      " |             Allowed values are: ``owner``, ``writer``, ``reader``.\n",
      " |      :type role: str\n",
      " |      :param notify: (optional) Whether to send an email to the target user/domain.\n",
      " |      :type notify: str\n",
      " |      :param email_message: (optional) The email to be sent if notify=True\n",
      " |      :type email_message: str\n",
      " |      \n",
      " |      :param with_link: (optional) Whether the link is required for this permission\n",
      " |      :type with_link: bool\n",
      " |      \n",
      " |      Example::\n",
      " |      \n",
      " |          # Give Otto a write permission on this spreadsheet\n",
      " |          sh.share('otto@example.com', perm_type='user', role='writer')\n",
      " |      \n",
      " |          # Transfer ownership to Otto\n",
      " |          sh.share('otto@example.com', perm_type='user', role='owner')\n",
      " |  \n",
      " |  values_append(self, range, params, body)\n",
      " |      Lower-level method that directly calls `spreadsheets.values.append <https://developers.google.com/sheets/api/reference/rest/v4/spreadsheets.values/append>`_.\n",
      " |      \n",
      " |      :param str range: The `A1 notation <https://developers.google.com/sheets/api/guides/concepts#a1_notation>`_\n",
      " |                        of a range to search for a logical table of data. Values will be appended after the last row of the table.\n",
      " |      :param dict params: `Query parameters <https://developers.google.com/sheets/api/reference/rest/v4/spreadsheets.values/append#query-parameters>`_.\n",
      " |      :param dict body: `Request body <https://developers.google.com/sheets/api/reference/rest/v4/spreadsheets.values/append#request-body>`_.\n",
      " |      :returns: `Response body <https://developers.google.com/sheets/api/reference/rest/v4/spreadsheets.values/append#response-body>`_.\n",
      " |      :rtype: dict\n",
      " |      \n",
      " |      .. versionadded:: 3.0\n",
      " |  \n",
      " |  values_batch_clear(self, params=None, body=None)\n",
      " |  \n",
      " |  values_batch_get(self, ranges, params=None)\n",
      " |      Lower-level method that directly calls `spreadsheets.values.batchGet <https://developers.google.com/sheets/api/reference/rest/v4/spreadsheets.values/batchGet>`_.\n",
      " |      \n",
      " |      :param ranges: List of ranges in the `A1 notation <https://developers.google.com/sheets/api/guides/concepts#a1_notation>`_ of the values to retrieve.\n",
      " |      :param dict params: (optional) `Query parameters <https://developers.google.com/sheets/api/reference/rest/v4/spreadsheets.values/get#query-parameters>`_.\n",
      " |      :returns: `Response body <https://developers.google.com/sheets/api/reference/rest/v4/spreadsheets.values/get#response-body>`_.\n",
      " |      :rtype: dict\n",
      " |  \n",
      " |  values_batch_update(self, params=None, body=None)\n",
      " |  \n",
      " |  values_clear(self, range)\n",
      " |      Lower-level method that directly calls `spreadsheets.values.clear <https://developers.google.com/sheets/api/reference/rest/v4/spreadsheets.values/clear>`_.\n",
      " |      \n",
      " |      :param str range: The `A1 notation <https://developers.google.com/sheets/api/guides/concepts#a1_notation>`_ of the values to clear.\n",
      " |      :returns: `Response body <https://developers.google.com/sheets/api/reference/rest/v4/spreadsheets.values/clear#response-body>`_.\n",
      " |      :rtype: dict\n",
      " |      \n",
      " |      .. versionadded:: 3.0\n",
      " |  \n",
      " |  values_get(self, range, params=None)\n",
      " |      Lower-level method that directly calls `spreadsheets.values.get <https://developers.google.com/sheets/api/reference/rest/v4/spreadsheets.values/get>`_.\n",
      " |      \n",
      " |      :param str range: The `A1 notation <https://developers.google.com/sheets/api/guides/concepts#a1_notation>`_ of the values to retrieve.\n",
      " |      :param dict params: (optional) `Query parameters <https://developers.google.com/sheets/api/reference/rest/v4/spreadsheets.values/get#query-parameters>`_.\n",
      " |      :returns: `Response body <https://developers.google.com/sheets/api/reference/rest/v4/spreadsheets.values/get#response-body>`_.\n",
      " |      :rtype: dict\n",
      " |      \n",
      " |      .. versionadded:: 3.0\n",
      " |  \n",
      " |  values_update(self, range, params=None, body=None)\n",
      " |      Lower-level method that directly calls `spreadsheets.values.update <https://developers.google.com/sheets/api/reference/rest/v4/spreadsheets.values/update>`_.\n",
      " |      \n",
      " |      :param str range: The `A1 notation <https://developers.google.com/sheets/api/guides/concepts#a1_notation>`_ of the values to update.\n",
      " |      :param dict params: (optional) `Query parameters <https://developers.google.com/sheets/api/reference/rest/v4/spreadsheets.values/update#query-parameters>`_.\n",
      " |      :param dict body: (optional) `Request body <https://developers.google.com/sheets/api/reference/rest/v4/spreadsheets.values/update#request-body>`_.\n",
      " |      :returns: `Response body <https://developers.google.com/sheets/api/reference/rest/v4/spreadsheets.values/update#response-body>`_.\n",
      " |      :rtype: dict\n",
      " |      \n",
      " |      Example::\n",
      " |      \n",
      " |          sh.values_update(\n",
      " |              'Sheet1!A2',\n",
      " |              params={\n",
      " |                  'valueInputOption': 'USER_ENTERED'\n",
      " |              },\n",
      " |              body={\n",
      " |                  'values': [[1, 2, 3]]\n",
      " |              }\n",
      " |          )\n",
      " |      \n",
      " |      .. versionadded:: 3.0\n",
      " |  \n",
      " |  worksheet(self, title)\n",
      " |      Returns a worksheet with specified `title`.\n",
      " |      \n",
      " |      :param title: A title of a worksheet. If there're multiple\n",
      " |                    worksheets with the same title, first one will\n",
      " |                    be returned.\n",
      " |      :type title: str\n",
      " |      \n",
      " |      :returns: an instance of :class:`gspread.models.Worksheet`.\n",
      " |      \n",
      " |      :raises:\n",
      " |          WorksheetNotFound: if can't find the worksheet\n",
      " |      \n",
      " |      Example. Getting worksheet named 'Annual bonuses'\n",
      " |      \n",
      " |      >>> sht = client.open('Sample one')\n",
      " |      >>> worksheet = sht.worksheet('Annual bonuses')\n",
      " |  \n",
      " |  worksheets(self)\n",
      " |      Returns a list of all :class:`worksheets <gspread.models.Worksheet>`\n",
      " |      in a spreadsheet.\n",
      " |  \n",
      " |  ----------------------------------------------------------------------\n",
      " |  Readonly properties defined here:\n",
      " |  \n",
      " |  creationTime\n",
      " |      Spreadsheet Creation time.\n",
      " |  \n",
      " |  id\n",
      " |      Spreadsheet ID.\n",
      " |  \n",
      " |  lastUpdateTime\n",
      " |      Spreadsheet Creation time.\n",
      " |  \n",
      " |  sheet1\n",
      " |      Shortcut property for getting the first worksheet.\n",
      " |  \n",
      " |  title\n",
      " |      Spreadsheet title.\n",
      " |  \n",
      " |  updated\n",
      " |      .. deprecated:: 2.0\n",
      " |      \n",
      " |      This feature is not supported in Sheets API v4.\n",
      " |  \n",
      " |  url\n",
      " |      Spreadsheet URL.\n",
      " |  \n",
      " |  ----------------------------------------------------------------------\n",
      " |  Data descriptors defined here:\n",
      " |  \n",
      " |  __dict__\n",
      " |      dictionary for instance variables (if defined)\n",
      " |  \n",
      " |  __weakref__\n",
      " |      list of weak references to the object (if defined)\n",
      "\n"
     ]
    }
   ],
   "source": [
    "help(sheet)"
   ]
  },
  {
   "cell_type": "code",
   "execution_count": 41,
   "metadata": {},
   "outputs": [
    {
     "data": {
      "text/plain": [
       "<Worksheet 'Form Responses 1' id:757807882>"
      ]
     },
     "execution_count": 41,
     "metadata": {},
     "output_type": "execute_result"
    }
   ],
   "source": [
    "sheet_instance = sheet.get_worksheet(0)\n",
    "sheet_instance"
   ]
  },
  {
   "cell_type": "code",
   "execution_count": 42,
   "metadata": {},
   "outputs": [
    {
     "data": {
      "text/plain": [
       "14"
      ]
     },
     "execution_count": 42,
     "metadata": {},
     "output_type": "execute_result"
    }
   ],
   "source": [
    "sheet_instance.col_count"
   ]
  },
  {
   "cell_type": "code",
   "execution_count": 43,
   "metadata": {},
   "outputs": [
    {
     "data": {
      "text/plain": [
       "104"
      ]
     },
     "execution_count": 43,
     "metadata": {},
     "output_type": "execute_result"
    }
   ],
   "source": [
    "sheet_instance.row_count"
   ]
  },
  {
   "cell_type": "code",
   "execution_count": 44,
   "metadata": {},
   "outputs": [
    {
     "data": {
      "text/plain": [
       "<Cell R11C3 None>"
      ]
     },
     "execution_count": 44,
     "metadata": {},
     "output_type": "execute_result"
    }
   ],
   "source": [
    "p_cell = sheet_instance.cell(col=3,row=11)\n",
    "p_cell"
   ]
  },
  {
   "cell_type": "code",
   "execution_count": 45,
   "metadata": {},
   "outputs": [
    {
     "data": {
      "text/plain": [
       "[{'Timestamp': '2/12/2022 15:17:29',\n",
       "  'Party Dress Code': 'shorts',\n",
       "  'What is your name?': 'Vicky Kumar',\n",
       "  'Can you attend?': \"Yes,  I'll be there\",\n",
       "  'How many of you are attending?': 3,\n",
       "  'What will you be bringing?': 'Dessert',\n",
       "  'Do you have any allergies or dietary restrictions?': 'no',\n",
       "  'What is your email address?': 'imvickykumar999@gmail.com'},\n",
       " {'Timestamp': '2/12/2022 15:18:36',\n",
       "  'Party Dress Code': 'winter dress',\n",
       "  'What is your name?': 'Ayushi',\n",
       "  'Can you attend?': \"Yes,  I'll be there\",\n",
       "  'How many of you are attending?': 'whole riet including teachers',\n",
       "  'What will you be bringing?': 'Mains, Salad, Dessert, Drinks, Sides/Appetizers, pani puri',\n",
       "  'Do you have any allergies or dietary restrictions?': 'everything is fine',\n",
       "  'What is your email address?': '20erecs018.ayushi@rietjaipur.ac.in'},\n",
       " {'Timestamp': '2/12/2022 15:19:39',\n",
       "  'Party Dress Code': 'dhoti',\n",
       "  'What is your name?': 'dhotar chor',\n",
       "  'Can you attend?': \"Sorry, can't make it\",\n",
       "  'How many of you are attending?': 'raju shyam babu bhaiya',\n",
       "  'What will you be bringing?': 'Dessert, cahkhna',\n",
       "  'Do you have any allergies or dietary restrictions?': 'baba kidney attack h',\n",
       "  'What is your email address?': 'akashverma8569@gmail.com'}]"
      ]
     },
     "execution_count": 45,
     "metadata": {},
     "output_type": "execute_result"
    }
   ],
   "source": [
    "# get all the records of the data\n",
    "records_data = sheet_instance.get_all_records()\n",
    "\n",
    "# view the data\n",
    "records_data"
   ]
  },
  {
   "cell_type": "code",
   "execution_count": 48,
   "metadata": {},
   "outputs": [
    {
     "data": {
      "text/html": [
       "<div>\n",
       "<style scoped>\n",
       "    .dataframe tbody tr th:only-of-type {\n",
       "        vertical-align: middle;\n",
       "    }\n",
       "\n",
       "    .dataframe tbody tr th {\n",
       "        vertical-align: top;\n",
       "    }\n",
       "\n",
       "    .dataframe thead th {\n",
       "        text-align: right;\n",
       "    }\n",
       "</style>\n",
       "<table border=\"1\" class=\"dataframe\">\n",
       "  <thead>\n",
       "    <tr style=\"text-align: right;\">\n",
       "      <th></th>\n",
       "      <th>Timestamp</th>\n",
       "      <th>Party Dress Code</th>\n",
       "      <th>What is your name?</th>\n",
       "      <th>Can you attend?</th>\n",
       "      <th>How many of you are attending?</th>\n",
       "      <th>What will you be bringing?</th>\n",
       "      <th>Do you have any allergies or dietary restrictions?</th>\n",
       "      <th>What is your email address?</th>\n",
       "    </tr>\n",
       "  </thead>\n",
       "  <tbody>\n",
       "    <tr>\n",
       "      <th>0</th>\n",
       "      <td>2/12/2022 15:17:29</td>\n",
       "      <td>shorts</td>\n",
       "      <td>Vicky Kumar</td>\n",
       "      <td>Yes,  I'll be there</td>\n",
       "      <td>3</td>\n",
       "      <td>Dessert</td>\n",
       "      <td>no</td>\n",
       "      <td>imvickykumar999@gmail.com</td>\n",
       "    </tr>\n",
       "    <tr>\n",
       "      <th>1</th>\n",
       "      <td>2/12/2022 15:18:36</td>\n",
       "      <td>winter dress</td>\n",
       "      <td>Ayushi</td>\n",
       "      <td>Yes,  I'll be there</td>\n",
       "      <td>whole riet including teachers</td>\n",
       "      <td>Mains, Salad, Dessert, Drinks, Sides/Appetizer...</td>\n",
       "      <td>everything is fine</td>\n",
       "      <td>20erecs018.ayushi@rietjaipur.ac.in</td>\n",
       "    </tr>\n",
       "    <tr>\n",
       "      <th>2</th>\n",
       "      <td>2/12/2022 15:19:39</td>\n",
       "      <td>dhoti</td>\n",
       "      <td>dhotar chor</td>\n",
       "      <td>Sorry, can't make it</td>\n",
       "      <td>raju shyam babu bhaiya</td>\n",
       "      <td>Dessert, cahkhna</td>\n",
       "      <td>baba kidney attack h</td>\n",
       "      <td>akashverma8569@gmail.com</td>\n",
       "    </tr>\n",
       "  </tbody>\n",
       "</table>\n",
       "</div>"
      ],
      "text/plain": [
       "            Timestamp Party Dress Code What is your name?  \\\n",
       "0  2/12/2022 15:17:29           shorts        Vicky Kumar   \n",
       "1  2/12/2022 15:18:36     winter dress             Ayushi   \n",
       "2  2/12/2022 15:19:39            dhoti        dhotar chor   \n",
       "\n",
       "        Can you attend? How many of you are attending?  \\\n",
       "0   Yes,  I'll be there                              3   \n",
       "1   Yes,  I'll be there  whole riet including teachers   \n",
       "2  Sorry, can't make it         raju shyam babu bhaiya   \n",
       "\n",
       "                          What will you be bringing?  \\\n",
       "0                                            Dessert   \n",
       "1  Mains, Salad, Dessert, Drinks, Sides/Appetizer...   \n",
       "2                                   Dessert, cahkhna   \n",
       "\n",
       "  Do you have any allergies or dietary restrictions?  \\\n",
       "0                                                 no   \n",
       "1                                 everything is fine   \n",
       "2                               baba kidney attack h   \n",
       "\n",
       "          What is your email address?  \n",
       "0           imvickykumar999@gmail.com  \n",
       "1  20erecs018.ayushi@rietjaipur.ac.in  \n",
       "2            akashverma8569@gmail.com  "
      ]
     },
     "execution_count": 48,
     "metadata": {},
     "output_type": "execute_result"
    }
   ],
   "source": [
    "# convert the json to dataframe\n",
    "records_df = pd.DataFrame(records_data)\n",
    "\n",
    "# view the top records\n",
    "records_df.head()"
   ]
  },
  {
   "cell_type": "code",
   "execution_count": 49,
   "metadata": {
    "scrolled": true
   },
   "outputs": [
    {
     "data": {
      "text/plain": [
       "[{'id': '01833449839634752626',\n",
       "  'name': 'google-forms@ideationology-lab-339114.iam.gserviceaccount.com',\n",
       "  'type': 'user',\n",
       "  'role': 'writer',\n",
       "  'kind': 'drive#permission',\n",
       "  'photoLink': 'https://lh3.googleusercontent.com/a/default-user=s64',\n",
       "  'selfLink': 'https://www.googleapis.com/drive/v2/files/1-ioZulYTYkRypOe6sKYjuxOHWq1UWg2DwYNe8J9jQhc/permissions/01833449839634752626',\n",
       "  'emailAddress': 'google-forms@ideationology-lab-339114.iam.gserviceaccount.com',\n",
       "  'domain': 'ideationology-lab-339114.iam.gserviceaccount.com',\n",
       "  'etag': '\"VXKV06heDBBPRu5suN9OXdvxMUo\"',\n",
       "  'deleted': False,\n",
       "  'pendingOwner': False},\n",
       " {'id': '13674329041742886055',\n",
       "  'name': 'Vicky Kumar',\n",
       "  'type': 'user',\n",
       "  'role': 'reader',\n",
       "  'additionalRoles': ['commenter'],\n",
       "  'kind': 'drive#permission',\n",
       "  'photoLink': 'https://lh3.googleusercontent.com/a-/AOh14Ggjzv5tTMphMnlwF7ywYGivZTiE21dFrFPDecQT=s64',\n",
       "  'selfLink': 'https://www.googleapis.com/drive/v2/files/1-ioZulYTYkRypOe6sKYjuxOHWq1UWg2DwYNe8J9jQhc/permissions/13674329041742886055',\n",
       "  'emailAddress': '18erecs080.vicky@rietjaipur.ac.in',\n",
       "  'domain': 'rietjaipur.ac.in',\n",
       "  'etag': '\"P8dAuz8wwOqPZ2ZWfkktYxK-vgw\"',\n",
       "  'deleted': False,\n",
       "  'pendingOwner': False},\n",
       " {'id': '14219662462735893431',\n",
       "  'name': 'Vicky Kumar',\n",
       "  'type': 'user',\n",
       "  'role': 'owner',\n",
       "  'kind': 'drive#permission',\n",
       "  'photoLink': 'https://lh3.googleusercontent.com/a-/AOh14GiRR0_FjPKEX7JYdn4jyKGBTiQ_SvmAbvXpJ1ohfKw=s64',\n",
       "  'selfLink': 'https://www.googleapis.com/drive/v2/files/1-ioZulYTYkRypOe6sKYjuxOHWq1UWg2DwYNe8J9jQhc/permissions/14219662462735893431',\n",
       "  'emailAddress': 'imvickykumar999@gmail.com',\n",
       "  'domain': 'gmail.com',\n",
       "  'etag': '\"JYKp7H8BxHzH8INRKPilKCajt9I\"',\n",
       "  'deleted': False,\n",
       "  'pendingOwner': False}]"
      ]
     },
     "execution_count": 49,
     "metadata": {},
     "output_type": "execute_result"
    }
   ],
   "source": [
    "per = sheet.list_permissions()\n",
    "per"
   ]
  },
  {
   "cell_type": "code",
   "execution_count": 50,
   "metadata": {},
   "outputs": [
    {
     "data": {
      "text/html": [
       "<div>\n",
       "<style scoped>\n",
       "    .dataframe tbody tr th:only-of-type {\n",
       "        vertical-align: middle;\n",
       "    }\n",
       "\n",
       "    .dataframe tbody tr th {\n",
       "        vertical-align: top;\n",
       "    }\n",
       "\n",
       "    .dataframe thead th {\n",
       "        text-align: right;\n",
       "    }\n",
       "</style>\n",
       "<table border=\"1\" class=\"dataframe\">\n",
       "  <thead>\n",
       "    <tr style=\"text-align: right;\">\n",
       "      <th></th>\n",
       "      <th>id</th>\n",
       "      <th>name</th>\n",
       "      <th>type</th>\n",
       "      <th>role</th>\n",
       "      <th>kind</th>\n",
       "      <th>photoLink</th>\n",
       "      <th>selfLink</th>\n",
       "      <th>emailAddress</th>\n",
       "      <th>domain</th>\n",
       "      <th>etag</th>\n",
       "      <th>deleted</th>\n",
       "      <th>pendingOwner</th>\n",
       "      <th>additionalRoles</th>\n",
       "    </tr>\n",
       "  </thead>\n",
       "  <tbody>\n",
       "    <tr>\n",
       "      <th>0</th>\n",
       "      <td>01833449839634752626</td>\n",
       "      <td>google-forms@ideationology-lab-339114.iam.gser...</td>\n",
       "      <td>user</td>\n",
       "      <td>writer</td>\n",
       "      <td>drive#permission</td>\n",
       "      <td>https://lh3.googleusercontent.com/a/default-us...</td>\n",
       "      <td>https://www.googleapis.com/drive/v2/files/1-io...</td>\n",
       "      <td>google-forms@ideationology-lab-339114.iam.gser...</td>\n",
       "      <td>ideationology-lab-339114.iam.gserviceaccount.com</td>\n",
       "      <td>\"VXKV06heDBBPRu5suN9OXdvxMUo\"</td>\n",
       "      <td>False</td>\n",
       "      <td>False</td>\n",
       "      <td>NaN</td>\n",
       "    </tr>\n",
       "    <tr>\n",
       "      <th>1</th>\n",
       "      <td>13674329041742886055</td>\n",
       "      <td>Vicky Kumar</td>\n",
       "      <td>user</td>\n",
       "      <td>reader</td>\n",
       "      <td>drive#permission</td>\n",
       "      <td>https://lh3.googleusercontent.com/a-/AOh14Ggjz...</td>\n",
       "      <td>https://www.googleapis.com/drive/v2/files/1-io...</td>\n",
       "      <td>18erecs080.vicky@rietjaipur.ac.in</td>\n",
       "      <td>rietjaipur.ac.in</td>\n",
       "      <td>\"P8dAuz8wwOqPZ2ZWfkktYxK-vgw\"</td>\n",
       "      <td>False</td>\n",
       "      <td>False</td>\n",
       "      <td>[commenter]</td>\n",
       "    </tr>\n",
       "    <tr>\n",
       "      <th>2</th>\n",
       "      <td>14219662462735893431</td>\n",
       "      <td>Vicky Kumar</td>\n",
       "      <td>user</td>\n",
       "      <td>owner</td>\n",
       "      <td>drive#permission</td>\n",
       "      <td>https://lh3.googleusercontent.com/a-/AOh14GiRR...</td>\n",
       "      <td>https://www.googleapis.com/drive/v2/files/1-io...</td>\n",
       "      <td>imvickykumar999@gmail.com</td>\n",
       "      <td>gmail.com</td>\n",
       "      <td>\"JYKp7H8BxHzH8INRKPilKCajt9I\"</td>\n",
       "      <td>False</td>\n",
       "      <td>False</td>\n",
       "      <td>NaN</td>\n",
       "    </tr>\n",
       "  </tbody>\n",
       "</table>\n",
       "</div>"
      ],
      "text/plain": [
       "                     id                                               name  \\\n",
       "0  01833449839634752626  google-forms@ideationology-lab-339114.iam.gser...   \n",
       "1  13674329041742886055                                        Vicky Kumar   \n",
       "2  14219662462735893431                                        Vicky Kumar   \n",
       "\n",
       "   type    role              kind  \\\n",
       "0  user  writer  drive#permission   \n",
       "1  user  reader  drive#permission   \n",
       "2  user   owner  drive#permission   \n",
       "\n",
       "                                           photoLink  \\\n",
       "0  https://lh3.googleusercontent.com/a/default-us...   \n",
       "1  https://lh3.googleusercontent.com/a-/AOh14Ggjz...   \n",
       "2  https://lh3.googleusercontent.com/a-/AOh14GiRR...   \n",
       "\n",
       "                                            selfLink  \\\n",
       "0  https://www.googleapis.com/drive/v2/files/1-io...   \n",
       "1  https://www.googleapis.com/drive/v2/files/1-io...   \n",
       "2  https://www.googleapis.com/drive/v2/files/1-io...   \n",
       "\n",
       "                                        emailAddress  \\\n",
       "0  google-forms@ideationology-lab-339114.iam.gser...   \n",
       "1                  18erecs080.vicky@rietjaipur.ac.in   \n",
       "2                          imvickykumar999@gmail.com   \n",
       "\n",
       "                                             domain  \\\n",
       "0  ideationology-lab-339114.iam.gserviceaccount.com   \n",
       "1                                  rietjaipur.ac.in   \n",
       "2                                         gmail.com   \n",
       "\n",
       "                            etag  deleted  pendingOwner additionalRoles  \n",
       "0  \"VXKV06heDBBPRu5suN9OXdvxMUo\"    False         False             NaN  \n",
       "1  \"P8dAuz8wwOqPZ2ZWfkktYxK-vgw\"    False         False     [commenter]  \n",
       "2  \"JYKp7H8BxHzH8INRKPilKCajt9I\"    False         False             NaN  "
      ]
     },
     "execution_count": 50,
     "metadata": {},
     "output_type": "execute_result"
    }
   ],
   "source": [
    "# convert the json to dataframe\n",
    "per_df = pd.DataFrame(per)\n",
    "\n",
    "# view the top records\n",
    "per_df.head()"
   ]
  },
  {
   "cell_type": "code",
   "execution_count": 53,
   "metadata": {
    "scrolled": true
   },
   "outputs": [
    {
     "data": {
      "text/plain": [
       "dict_keys(['id', 'name', 'type', 'role', 'kind', 'photoLink', 'selfLink', 'emailAddress', 'domain', 'etag', 'deleted', 'pendingOwner'])"
      ]
     },
     "execution_count": 53,
     "metadata": {},
     "output_type": "execute_result"
    }
   ],
   "source": [
    "per[0].keys() "
   ]
  },
  {
   "cell_type": "code",
   "execution_count": 58,
   "metadata": {},
   "outputs": [
    {
     "name": "stdout",
     "output_type": "stream",
     "text": [
      "google-forms@ideationology-lab-339114.iam.gserviceaccount.com\n",
      "18erecs080.vicky@rietjaipur.ac.in\n",
      "imvickykumar999@gmail.com\n"
     ]
    }
   ],
   "source": [
    "for i in range(len(per)):\n",
    "    print(per[i]['emailAddress'])"
   ]
  },
  {
   "cell_type": "code",
   "execution_count": 60,
   "metadata": {},
   "outputs": [
    {
     "data": {
      "text/plain": [
       "{'spreadsheetId': '1-ioZulYTYkRypOe6sKYjuxOHWq1UWg2DwYNe8J9jQhc',\n",
       " 'updatedRange': \"'Form Responses 1'!A5:I6\",\n",
       " 'updatedRows': 2,\n",
       " 'updatedColumns': 9,\n",
       " 'updatedCells': 18}"
      ]
     },
     "execution_count": 60,
     "metadata": {},
     "output_type": "execute_result"
    }
   ],
   "source": [
    "sheet_instance = sheet.get_worksheet(0)\n",
    "\n",
    "entry1 = ['2/12/2022 15:39:29', 'shorts', 'Aakash', 'Yes', \"I'll be there\", '4', 'Dessert', 'no', 'imvickykumar999@gmail.com'] \n",
    "entry2 = ['2/12/2022 15:43:29', 'shorts', 'Aakash', 'Yes', \"I'll be there\", '4', 'Dessert', 'no', 'imvickykumar999@gmail.com'] \n",
    "\n",
    "sheet_instance.update('A5', [entry1, entry2])"
   ]
  },
  {
   "cell_type": "code",
   "execution_count": 61,
   "metadata": {},
   "outputs": [],
   "source": [
    "sheet.share('hellovickykumar123@gmail.com', perm_type='user', role='writer')"
   ]
  },
  {
   "cell_type": "code",
   "execution_count": 67,
   "metadata": {
    "scrolled": true
   },
   "outputs": [
    {
     "data": {
      "text/plain": [
       "[[2, 3, 4, 5, 6, 7, 8, 9, 10],\n",
       " [4, 6, 8, 10, 12, 14, 16, 18, 20],\n",
       " [6, 9, 12, 15, 18, 21, 24, 27, 30],\n",
       " [8, 12, 16, 20, 24, 28, 32, 36, 40],\n",
       " [10, 15, 20, 25, 30, 35, 40, 45, 50],\n",
       " [12, 18, 24, 30, 36, 42, 48, 54, 60],\n",
       " [14, 21, 28, 35, 42, 49, 56, 63, 70],\n",
       " [16, 24, 32, 40, 48, 56, 64, 72, 80],\n",
       " [18, 27, 36, 45, 54, 63, 72, 81, 90],\n",
       " [20, 30, 40, 50, 60, 70, 80, 90, 100]]"
      ]
     },
     "execution_count": 67,
     "metadata": {},
     "output_type": "execute_result"
    }
   ],
   "source": [
    "tt=[]\n",
    "for j in range(1, 11):\n",
    "    t=[]\n",
    "    for i in range(2,11):\n",
    "        t.append(i*j)\n",
    "    tt.append(t)\n",
    "tt"
   ]
  },
  {
   "cell_type": "code",
   "execution_count": 68,
   "metadata": {},
   "outputs": [
    {
     "data": {
      "text/plain": [
       "{'spreadsheetId': '1-ioZulYTYkRypOe6sKYjuxOHWq1UWg2DwYNe8J9jQhc',\n",
       " 'updatedRange': 'Sheet2!A1:I10',\n",
       " 'updatedRows': 10,\n",
       " 'updatedColumns': 9,\n",
       " 'updatedCells': 90}"
      ]
     },
     "execution_count": 68,
     "metadata": {},
     "output_type": "execute_result"
    }
   ],
   "source": [
    "table = sheet.get_worksheet(1)\n",
    "table.update('A1', tt)"
   ]
  },
  {
   "cell_type": "code",
   "execution_count": null,
   "metadata": {},
   "outputs": [],
   "source": []
  },
  {
   "cell_type": "code",
   "execution_count": 148,
   "metadata": {},
   "outputs": [
    {
     "name": "stdout",
     "output_type": "stream",
     "text": [
      "hellovickykumar123@gmail.com\n",
      "google-forms@ideationology-lab-339114.iam.gserviceaccount.com\n",
      "imvickykumar999@gmail.com\n"
     ]
    }
   ],
   "source": [
    "for i in per:\n",
    "    print(i['emailAddress'])"
   ]
  },
  {
   "cell_type": "code",
   "execution_count": 123,
   "metadata": {},
   "outputs": [
    {
     "data": {
      "text/plain": [
       "<Worksheet 'python test' id:1251398035>"
      ]
     },
     "execution_count": 123,
     "metadata": {},
     "output_type": "execute_result"
    }
   ],
   "source": [
    "sheet_x = sheet.sheet1\n",
    "sheet_x"
   ]
  },
  {
   "cell_type": "code",
   "execution_count": 124,
   "metadata": {},
   "outputs": [
    {
     "data": {
      "text/plain": [
       "[{'Timestamp': '8/25/2021 10:31:18',\n",
       "  'Email Address': 'imvickykumar999@gmail.com',\n",
       "  'Name': 'Vicky Kumar',\n",
       "  'Which of these is not a core data type?': '',\n",
       "  'What data type is the object below ? L = [1, 23, ‘hello’, 1]': '',\n",
       "  'Which of the following function convert a string to a float in python?': '',\n",
       "  'Score': '0 / 15',\n",
       "  'Address': '28.562, 77.360',\n",
       "  '': '',\n",
       "  'Phone number': 823995792,\n",
       "  'Comments': 'testing mode'},\n",
       " {'Timestamp': '8/25/2021 10:38:16',\n",
       "  'Email Address': 'imvickykumar999@gmail.com',\n",
       "  'Name': 'Vicky Kumar',\n",
       "  'Which of these is not a core data type?': '',\n",
       "  'What data type is the object below ? L = [1, 23, ‘hello’, 1]': '',\n",
       "  'Which of the following function convert a string to a float in python?': '',\n",
       "  'Score': '0 / 15',\n",
       "  'Address': 'noida',\n",
       "  '': '',\n",
       "  'Phone number': 9811531760,\n",
       "  'Comments': 'doing again'},\n",
       " {'Timestamp': '8/25/2021 12:09:08',\n",
       "  'Email Address': 'hellovickykumar123@gmail.com',\n",
       "  'Name': 'Vicky Kumar',\n",
       "  'Which of these is not a core data type?': '',\n",
       "  'What data type is the object below ? L = [1, 23, ‘hello’, 1]': '',\n",
       "  'Which of the following function convert a string to a float in python?': '',\n",
       "  'Score': '0 / 15',\n",
       "  'Address': 'Jaipur',\n",
       "  '': '',\n",
       "  'Phone number': 8239957923,\n",
       "  'Comments': 'tesing bot'},\n",
       " {'Timestamp': '8/25/2021 12:20:10',\n",
       "  'Email Address': 'imvickykumar999@gmail.com',\n",
       "  'Name': 'Vicky Kumar',\n",
       "  'Which of these is not a core data type?': '',\n",
       "  'What data type is the object below ? L = [1, 23, ‘hello’, 1]': '',\n",
       "  'Which of the following function convert a string to a float in python?': '',\n",
       "  'Score': '0 / 15',\n",
       "  'Address': 'jaipur, Rajasthan ',\n",
       "  '': '',\n",
       "  'Phone number': 8239957923,\n",
       "  'Comments': 'deployed'},\n",
       " {'Timestamp': '8/25/2021 12:36:24',\n",
       "  'Email Address': 'imvickykumar999@gmail.com',\n",
       "  'Name': 'Vicky Kumar',\n",
       "  'Which of these is not a core data type?': '',\n",
       "  'What data type is the object below ? L = [1, 23, ‘hello’, 1]': '',\n",
       "  'Which of the following function convert a string to a float in python?': '',\n",
       "  'Score': '0 / 15',\n",
       "  'Address': 'bhankrota',\n",
       "  '': '',\n",
       "  'Phone number': 9811531760,\n",
       "  'Comments': 'submit'},\n",
       " {'Timestamp': '8/25/2021 12:51:47',\n",
       "  'Email Address': 'imvickykumar999@gmail.com',\n",
       "  'Name': 'Vicky Kumar',\n",
       "  'Which of these is not a core data type?': '',\n",
       "  'What data type is the object below ? L = [1, 23, ‘hello’, 1]': '',\n",
       "  'Which of the following function convert a string to a float in python?': '',\n",
       "  'Score': '0 / 15',\n",
       "  'Address': 'Jaipur',\n",
       "  '': '',\n",
       "  'Phone number': 9811531760,\n",
       "  'Comments': 'Mobile'},\n",
       " {'Timestamp': '8/25/2021 14:44:38',\n",
       "  'Email Address': 'imvickykumar999@gmail.com',\n",
       "  'Name': 'Vicky Kumar',\n",
       "  'Which of these is not a core data type?': '',\n",
       "  'What data type is the object below ? L = [1, 23, ‘hello’, 1]': 'List',\n",
       "  'Which of the following function convert a string to a float in python?': 'float(x)',\n",
       "  'Score': '15 / 15',\n",
       "  'Address': '',\n",
       "  '': '',\n",
       "  'Phone number': '',\n",
       "  'Comments': ''},\n",
       " {'Timestamp': '8/25/2021 15:05:09',\n",
       "  'Email Address': 'imvickykumar999@gmail.com',\n",
       "  'Name': 'Vicky Kumar',\n",
       "  'Which of these is not a core data type?': '',\n",
       "  'What data type is the object below ? L = [1, 23, ‘hello’, 1]': 'Dictionary',\n",
       "  'Which of the following function convert a string to a float in python?': 'float(x)',\n",
       "  'Score': '10 / 15',\n",
       "  'Address': '',\n",
       "  '': '',\n",
       "  'Phone number': '',\n",
       "  'Comments': ''},\n",
       " {'Timestamp': '8/25/2021 15:54:12',\n",
       "  'Email Address': 'imvickykumar999@gmail.com',\n",
       "  'Name': 'Vicky Kumar',\n",
       "  'Which of these is not a core data type?': '',\n",
       "  'What data type is the object below ? L = [1, 23, ‘hello’, 1]': 'List',\n",
       "  'Which of the following function convert a string to a float in python?': 'float(x)',\n",
       "  'Score': '15 / 15',\n",
       "  'Address': '',\n",
       "  '': '',\n",
       "  'Phone number': '',\n",
       "  'Comments': ''},\n",
       " {'Timestamp': '8/25/2021 16:12:18',\n",
       "  'Email Address': 'kumarsafal169@gmail.com',\n",
       "  'Name': 'SAFAL KUMAR',\n",
       "  'Which of these is not a core data type?': '',\n",
       "  'What data type is the object below ? L = [1, 23, ‘hello’, 1]': 'List',\n",
       "  'Which of the following function convert a string to a float in python?': 'float(x)',\n",
       "  'Score': '15 / 15',\n",
       "  'Address': '',\n",
       "  '': '',\n",
       "  'Phone number': '',\n",
       "  'Comments': ''},\n",
       " {'Timestamp': '8/25/2021 19:02:28',\n",
       "  'Email Address': 'imvickykumar999@gmail.com',\n",
       "  'Name': 'Vicky Kumar',\n",
       "  'Which of these is not a core data type?': '',\n",
       "  'What data type is the object below ? L = [1, 23, ‘hello’, 1]': 'List',\n",
       "  'Which of the following function convert a string to a float in python?': 'float(x)',\n",
       "  'Score': '15 / 15',\n",
       "  'Address': '',\n",
       "  '': '',\n",
       "  'Phone number': '',\n",
       "  'Comments': ''},\n",
       " {'Timestamp': '8/26/2021 7:22:44',\n",
       "  'Email Address': 'imvickykumar999@gmail.com',\n",
       "  'Name': 'Vicky Kumar',\n",
       "  'Which of these is not a core data type?': '',\n",
       "  'What data type is the object below ? L = [1, 23, ‘hello’, 1]': 'List',\n",
       "  'Which of the following function convert a string to a float in python?': 'float(x)',\n",
       "  'Score': '15 / 15',\n",
       "  'Address': '',\n",
       "  '': '',\n",
       "  'Phone number': '',\n",
       "  'Comments': ''},\n",
       " {'Timestamp': '9/2/2021 18:00:37',\n",
       "  'Email Address': 'imvickykumar999@gmail.com',\n",
       "  'Name': 'Vicky Kumar',\n",
       "  'Which of these is not a core data type?': '',\n",
       "  'What data type is the object below ? L = [1, 23, ‘hello’, 1]': 'List',\n",
       "  'Which of the following function convert a string to a float in python?': 'float(x)',\n",
       "  'Score': '15 / 15',\n",
       "  'Address': '',\n",
       "  '': '',\n",
       "  'Phone number': '',\n",
       "  'Comments': ''},\n",
       " {'Timestamp': '9/2/2021 18:04:13',\n",
       "  'Email Address': 'hellovickykumar123@gmail.com',\n",
       "  'Name': 'Vicky Kumar',\n",
       "  'Which of these is not a core data type?': '',\n",
       "  'What data type is the object below ? L = [1, 23, ‘hello’, 1]': 'List',\n",
       "  'Which of the following function convert a string to a float in python?': 'float(x)',\n",
       "  'Score': '15 / 15',\n",
       "  'Address': '',\n",
       "  '': '',\n",
       "  'Phone number': '',\n",
       "  'Comments': ''},\n",
       " {'Timestamp': '9/12/2021 10:05:55',\n",
       "  'Email Address': 'balagriffon@gmail.com',\n",
       "  'Name': 'Ranger',\n",
       "  'Which of these is not a core data type?': '',\n",
       "  'What data type is the object below ? L = [1, 23, ‘hello’, 1]': 'List',\n",
       "  'Which of the following function convert a string to a float in python?': 'float(x)',\n",
       "  'Score': '15 / 15',\n",
       "  'Address': '',\n",
       "  '': '',\n",
       "  'Phone number': '',\n",
       "  'Comments': ''}]"
      ]
     },
     "execution_count": 124,
     "metadata": {},
     "output_type": "execute_result"
    }
   ],
   "source": [
    "data = sheet_x.get_all_records()\n",
    "data"
   ]
  },
  {
   "cell_type": "code",
   "execution_count": 70,
   "metadata": {},
   "outputs": [],
   "source": [
    "# # get the instance of the Spreadsheet\n",
    "# sheet_id = '1E-SpPEszLcyEysQNHAB12LfCIhj_v0HRbRHs21msd7Y'\n",
    "# sheet = client.open(sheet_id)\n",
    "\n",
    "# # get the first sheet of the Spreadsheet\n",
    "# sheet_instance = sheet.get_worksheet(0)"
   ]
  },
  {
   "cell_type": "code",
   "execution_count": 53,
   "metadata": {
    "scrolled": true
   },
   "outputs": [],
   "source": [
    "# import pandas as pd\n",
    "\n",
    "# url = f'https://docs.google.com/spreadsheets/d/{sheet_id}/export?format=csv' \n",
    "# df = pd.read_csv(url)\n",
    "# df\n",
    "\n",
    "# # work when link is public"
   ]
  },
  {
   "cell_type": "code",
   "execution_count": 31,
   "metadata": {},
   "outputs": [
    {
     "data": {
      "text/plain": [
       "<Spreadsheet 'Contact Information (Responses)' Sheets:1>"
      ]
     },
     "execution_count": 31,
     "metadata": {},
     "output_type": "execute_result"
    }
   ],
   "source": [
    "# import pygsheets\n",
    "\n",
    "# # spreadsheet_key = '1E-SpPEszLcyEysQNHAB12LfCIhj_v0HRbRHs21msd7Y'  # Please set the Spreadsheet ID.\n",
    "# gc = pygsheets.authorize(service_file=jfile)\n",
    "\n",
    "# sh = gc.open(\"Contact Information (Responses)\")\n",
    "# sh"
   ]
  },
  {
   "cell_type": "code",
   "execution_count": 30,
   "metadata": {},
   "outputs": [
    {
     "data": {
      "text/plain": [
       "<Spreadsheet 'Contact Information (Responses)' Sheets:1>"
      ]
     },
     "execution_count": 30,
     "metadata": {},
     "output_type": "execute_result"
    }
   ],
   "source": [
    "# spreadsheet_key = '1E-SpPEszLcyEysQNHAB12LfCIhj_v0HRbRHs21msd7Y'  # Please set the Spreadsheet ID.\n",
    "# gc.open_by_key(spreadsheet_key)"
   ]
  },
  {
   "cell_type": "code",
   "execution_count": 38,
   "metadata": {
    "scrolled": true
   },
   "outputs": [
    {
     "data": {
      "text/plain": [
       "<Spreadsheet 'Ideationology Lab Attendance Sheet (Responses)' id:1Va2O06m-sBdjHmxkvl4TpkC-ghm6U8jkFxhShDHDWLE>"
      ]
     },
     "execution_count": 38,
     "metadata": {},
     "output_type": "execute_result"
    }
   ],
   "source": [
    "# https://docs.gspread.org/en/latest/api.html#gspread.spreadsheet.Spreadsheet.share\n",
    "\n",
    "from oauth2client.service_account import ServiceAccountCredentials as sac\n",
    "import gspread\n",
    "\n",
    "scope = ['https://spreadsheets.google.com/feeds',\n",
    "         'https://www.googleapis.com/auth/drive']\n",
    "jfile = 'ideationology-lab-b60654e44e37.json'\n",
    "\n",
    "creds = sac.from_json_keyfile_name(jfile, scope)\n",
    "client = gspread.authorize(creds)\n",
    "\n",
    "url = 'https://docs.google.com/spreadsheets/d/1Va2O06m-sBdjHmxkvl4TpkC-ghm6U8jkFxhShDHDWLE/edit?hl=en&forcehl=1#gid=117935182'  \n",
    "sheet = client.open_by_url(url) \n",
    "sheet"
   ]
  },
  {
   "cell_type": "code",
   "execution_count": 39,
   "metadata": {},
   "outputs": [
    {
     "data": {
      "text/plain": [
       "[{'Timestamp': '1/27/2022 17:07:13',\n",
       "  'Email Address': 'imvickykumar999@gmail.com',\n",
       "  'Name': 'Vicky Kumar',\n",
       "  'Year': '4th',\n",
       "  'WhatsApp Number': 8239957923,\n",
       "  'This Form is for Attendance Purpose, Mark if you want to attend regularly !': 'Yes, I Accept.'},\n",
       " {'Timestamp': '1/27/2022 18:53:24',\n",
       "  'Email Address': 'sarswataditya663@gmail.com',\n",
       "  'Name': 'Aditya',\n",
       "  'Year': '2nd',\n",
       "  'WhatsApp Number': 7414050546,\n",
       "  'This Form is for Attendance Purpose, Mark if you want to attend regularly !': 'Yes, I Accept.'},\n",
       " {'Timestamp': '1/27/2022 19:27:37',\n",
       "  'Email Address': 'av2935288@gmail.com',\n",
       "  'Name': 'Abhishek verma',\n",
       "  'Year': '2nd',\n",
       "  'WhatsApp Number': 8005840328,\n",
       "  'This Form is for Attendance Purpose, Mark if you want to attend regularly !': 'Yes, I Accept.'}]"
      ]
     },
     "execution_count": 39,
     "metadata": {},
     "output_type": "execute_result"
    }
   ],
   "source": [
    "sheet_instance = sheet.get_worksheet(0)\n",
    "records_data = sheet_instance.get_all_records()\n",
    "records_data"
   ]
  },
  {
   "cell_type": "code",
   "execution_count": 40,
   "metadata": {},
   "outputs": [
    {
     "data": {
      "text/plain": [
       "['imvickykumar999@gmail.com',\n",
       " 'sarswataditya663@gmail.com',\n",
       " 'av2935288@gmail.com']"
      ]
     },
     "execution_count": 40,
     "metadata": {},
     "output_type": "execute_result"
    }
   ],
   "source": [
    "mid=[]\n",
    "for i in records_data:\n",
    "    mid.append(i['Email Address'])\n",
    "    sheet.share(i['Email Address'], perm_type='user', role='reader')\n",
    "mid"
   ]
  },
  {
   "cell_type": "code",
   "execution_count": 47,
   "metadata": {},
   "outputs": [
    {
     "data": {
      "text/plain": [
       "['imvickykumar999@gmail.com',\n",
       " 'sarswataditya663@gmail.com',\n",
       " 'av2935288@gmail.com']"
      ]
     },
     "execution_count": 47,
     "metadata": {},
     "output_type": "execute_result"
    }
   ],
   "source": [
    "values_list = sheet_instance.col_values(2)\n",
    "values_list[1:]"
   ]
  },
  {
   "cell_type": "code",
   "execution_count": 41,
   "metadata": {},
   "outputs": [
    {
     "name": "stdout",
     "output_type": "stream",
     "text": [
      "writer -> hellovickykumar123@gmail.com\n",
      "writer -> ideationology@ideationology-lab.iam.gserviceaccount.com\n",
      "writer -> 18erecs080.vicky@rietjaipur.ac.in\n",
      "writer -> ideationology@ideationology-lab-339220.iam.gserviceaccount.com\n",
      "reader -> sarswataditya663@gmail.com\n",
      "reader -> av2935288@gmail.com\n",
      "reader -> 18erecs009.ankit@rietjaipur.ac.in\n",
      "writer -> hangouts-chat-8276156a0f9d6da7@rietjaipur.ac.in\n",
      "writer -> hangouts-chat-20340853ad6bb20b@rietjaipur.ac.in\n",
      "owner -> imvickykumar999@gmail.com\n"
     ]
    }
   ],
   "source": [
    "# sheet.share('18erecs009.ankit@rietjaipur.ac.in', perm_type='user', role='reader')\n",
    "# sheet.remove_permissions('18erecs009.ankit@rietjaipur.ac.in')\n",
    "per = sheet.list_permissions()\n",
    "\n",
    "for i in per:\n",
    "    print(f\"{i['role']} -> {i['emailAddress']}\")"
   ]
  },
  {
   "cell_type": "code",
   "execution_count": 82,
   "metadata": {},
   "outputs": [
    {
     "data": {
      "text/plain": [
       "['Date (Y/M/D)', 'Vicky Kumar', 'Aditya', 'Abhishek verma']"
      ]
     },
     "execution_count": 82,
     "metadata": {},
     "output_type": "execute_result"
    }
   ],
   "source": [
    "Name=['Date (Y/M/D)']\n",
    "for i in records_data:\n",
    "    Name.append(i['Name'])\n",
    "Name"
   ]
  },
  {
   "cell_type": "code",
   "execution_count": 94,
   "metadata": {},
   "outputs": [
    {
     "data": {
      "text/plain": [
       "{'spreadsheetId': '1Va2O06m-sBdjHmxkvl4TpkC-ghm6U8jkFxhShDHDWLE',\n",
       " 'updatedRange': 'Sheet4!A1:D1',\n",
       " 'updatedRows': 1,\n",
       " 'updatedColumns': 4,\n",
       " 'updatedCells': 4}"
      ]
     },
     "execution_count": 94,
     "metadata": {},
     "output_type": "execute_result"
    }
   ],
   "source": [
    "worksheet_up = sheet.get_worksheet(1)\n",
    "worksheet_up.update('A1', [Name])\n",
    "\n",
    "# worksheet_up.format(\"A1:D1\", {\n",
    "#     \"backgroundColor\": {\n",
    "#       \"red\": 0.0,\n",
    "#       \"green\": 0.0,\n",
    "#       \"blue\": 0.0\n",
    "#     },\n",
    "#     \"horizontalAlignment\": \"CENTER\",\n",
    "#     \"textFormat\": {\n",
    "#       \"foregroundColor\": {\n",
    "#         \"red\": 1.0,\n",
    "#         \"green\": 1.0,\n",
    "#         \"blue\": 1.0\n",
    "#       },\n",
    "#       \"fontSize\": 12,\n",
    "#       \"bold\": True\n",
    "#     }\n",
    "# })"
   ]
  },
  {
   "cell_type": "code",
   "execution_count": 89,
   "metadata": {},
   "outputs": [
    {
     "data": {
      "text/plain": [
       "datetime.date(2022, 1, 31)"
      ]
     },
     "execution_count": 89,
     "metadata": {},
     "output_type": "execute_result"
    }
   ],
   "source": [
    "import datetime\n",
    "dt = datetime.date.today()\n",
    "dt"
   ]
  },
  {
   "cell_type": "code",
   "execution_count": 90,
   "metadata": {},
   "outputs": [
    {
     "data": {
      "text/plain": [
       "'2022-01-31'"
      ]
     },
     "execution_count": 90,
     "metadata": {},
     "output_type": "execute_result"
    }
   ],
   "source": [
    "str(dt)"
   ]
  },
  {
   "cell_type": "code",
   "execution_count": 91,
   "metadata": {},
   "outputs": [
    {
     "data": {
      "text/plain": [
       "['P', 'A', 'A']"
      ]
     },
     "execution_count": 91,
     "metadata": {},
     "output_type": "execute_result"
    }
   ],
   "source": [
    "attend = ['P', 'A', 'A']\n",
    "attend"
   ]
  },
  {
   "cell_type": "code",
   "execution_count": 92,
   "metadata": {},
   "outputs": [
    {
     "data": {
      "text/plain": [
       "['2022-01-31', 'P', 'A', 'A']"
      ]
     },
     "execution_count": 92,
     "metadata": {},
     "output_type": "execute_result"
    }
   ],
   "source": [
    "attend.insert(0, str(dt))\n",
    "attend"
   ]
  },
  {
   "cell_type": "code",
   "execution_count": 98,
   "metadata": {},
   "outputs": [
    {
     "data": {
      "text/plain": [
       "{'spreadsheetId': '1Va2O06m-sBdjHmxkvl4TpkC-ghm6U8jkFxhShDHDWLE',\n",
       " 'updatedRange': 'Sheet4!A2:D2',\n",
       " 'updatedRows': 1,\n",
       " 'updatedColumns': 4,\n",
       " 'updatedCells': 4}"
      ]
     },
     "execution_count": 98,
     "metadata": {},
     "output_type": "execute_result"
    }
   ],
   "source": [
    "worksheet_up = sheet.get_worksheet(1)\n",
    "worksheet_up.update('A2', [attend])"
   ]
  },
  {
   "cell_type": "code",
   "execution_count": 99,
   "metadata": {},
   "outputs": [
    {
     "data": {
      "text/plain": [
       "2000"
      ]
     },
     "execution_count": 99,
     "metadata": {},
     "output_type": "execute_result"
    }
   ],
   "source": [
    "worksheet_up.row_count"
   ]
  },
  {
   "cell_type": "code",
   "execution_count": 103,
   "metadata": {},
   "outputs": [
    {
     "data": {
      "text/plain": [
       "'2022-01-31'"
      ]
     },
     "execution_count": 103,
     "metadata": {},
     "output_type": "execute_result"
    }
   ],
   "source": [
    "sz = worksheet_up.col_values(1)\n",
    "sz[-1]"
   ]
  },
  {
   "cell_type": "code",
   "execution_count": null,
   "metadata": {},
   "outputs": [],
   "source": []
  }
 ],
 "metadata": {
  "kernelspec": {
   "display_name": "Python 3",
   "language": "python",
   "name": "python3"
  },
  "language_info": {
   "codemirror_mode": {
    "name": "ipython",
    "version": 3
   },
   "file_extension": ".py",
   "mimetype": "text/x-python",
   "name": "python",
   "nbconvert_exporter": "python",
   "pygments_lexer": "ipython3",
   "version": "3.8.3"
  }
 },
 "nbformat": 4,
 "nbformat_minor": 4
}

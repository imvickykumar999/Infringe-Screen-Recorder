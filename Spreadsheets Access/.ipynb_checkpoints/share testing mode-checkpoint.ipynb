{
 "cells": [
  {
   "cell_type": "code",
   "execution_count": 1,
   "metadata": {
    "scrolled": true
   },
   "outputs": [
    {
     "name": "stdout",
     "output_type": "stream",
     "text": [
      "Requirement already satisfied: gspread in c:\\users\\vicky\\anaconda3\\lib\\site-packages (4.0.1)\n",
      "Requirement already satisfied: google-auth>=1.12.0 in c:\\users\\vicky\\anaconda3\\lib\\site-packages (from gspread) (1.35.0)\n",
      "Requirement already satisfied: google-auth-oauthlib>=0.4.1 in c:\\users\\vicky\\anaconda3\\lib\\site-packages (from gspread) (0.4.2)\n",
      "Requirement already satisfied: pyasn1-modules>=0.2.1 in c:\\users\\vicky\\anaconda3\\lib\\site-packages (from google-auth>=1.12.0->gspread) (0.2.8)\n",
      "Requirement already satisfied: six>=1.9.0 in c:\\users\\vicky\\anaconda3\\lib\\site-packages (from google-auth>=1.12.0->gspread) (1.15.0)\n",
      "Requirement already satisfied: cachetools<5.0,>=2.0.0 in c:\\users\\vicky\\anaconda3\\lib\\site-packages (from google-auth>=1.12.0->gspread) (4.2.2)\n",
      "Requirement already satisfied: setuptools>=40.3.0 in c:\\users\\vicky\\anaconda3\\lib\\site-packages (from google-auth>=1.12.0->gspread) (49.2.0.post20200714)\n",
      "Requirement already satisfied: rsa<5,>=3.1.4; python_version >= \"3.6\" in c:\\users\\vicky\\anaconda3\\lib\\site-packages (from google-auth>=1.12.0->gspread) (4.6)\n",
      "Requirement already satisfied: requests-oauthlib>=0.7.0 in c:\\users\\vicky\\anaconda3\\lib\\site-packages (from google-auth-oauthlib>=0.4.1->gspread) (1.3.0)\n",
      "Requirement already satisfied: pyasn1<0.5.0,>=0.4.6 in c:\\users\\vicky\\anaconda3\\lib\\site-packages (from pyasn1-modules>=0.2.1->google-auth>=1.12.0->gspread) (0.4.8)\n",
      "Requirement already satisfied: requests>=2.0.0 in c:\\users\\vicky\\anaconda3\\lib\\site-packages (from requests-oauthlib>=0.7.0->google-auth-oauthlib>=0.4.1->gspread) (2.26.0)\n",
      "Requirement already satisfied: oauthlib>=3.0.0 in c:\\users\\vicky\\anaconda3\\lib\\site-packages (from requests-oauthlib>=0.7.0->google-auth-oauthlib>=0.4.1->gspread) (3.1.0)\n",
      "Requirement already satisfied: charset-normalizer~=2.0.0; python_version >= \"3\" in c:\\users\\vicky\\anaconda3\\lib\\site-packages (from requests>=2.0.0->requests-oauthlib>=0.7.0->google-auth-oauthlib>=0.4.1->gspread) (2.0.9)\n",
      "Requirement already satisfied: idna<4,>=2.5; python_version >= \"3\" in c:\\users\\vicky\\anaconda3\\lib\\site-packages (from requests>=2.0.0->requests-oauthlib>=0.7.0->google-auth-oauthlib>=0.4.1->gspread) (2.10)\n",
      "Requirement already satisfied: certifi>=2017.4.17 in c:\\users\\vicky\\anaconda3\\lib\\site-packages (from requests>=2.0.0->requests-oauthlib>=0.7.0->google-auth-oauthlib>=0.4.1->gspread) (2020.6.20)\n",
      "Requirement already satisfied: urllib3<1.27,>=1.21.1 in c:\\users\\vicky\\anaconda3\\lib\\site-packages (from requests>=2.0.0->requests-oauthlib>=0.7.0->google-auth-oauthlib>=0.4.1->gspread) (1.26.7)\n"
     ]
    }
   ],
   "source": [
    "!pip install gspread"
   ]
  },
  {
   "cell_type": "code",
   "execution_count": 2,
   "metadata": {},
   "outputs": [],
   "source": [
    "from oauth2client.service_account import ServiceAccountCredentials as sac"
   ]
  },
  {
   "cell_type": "code",
   "execution_count": 63,
   "metadata": {},
   "outputs": [
    {
     "data": {
      "text/plain": [
       "<oauth2client.service_account.ServiceAccountCredentials at 0x238e502bc70>"
      ]
     },
     "execution_count": 63,
     "metadata": {},
     "output_type": "execute_result"
    }
   ],
   "source": [
    "# https://github.com/burnash/gspread/issues/512#issuecomment-372708065\n",
    "\n",
    "scope = ['https://spreadsheets.google.com/feeds',\n",
    "         'https://www.googleapis.com/auth/drive']\n",
    "\n",
    "jfile = 'ideationology-lab-b60654e44e37.json'\n",
    "creds = sac.from_json_keyfile_name(jfile, scope)\n",
    "creds"
   ]
  },
  {
   "cell_type": "code",
   "execution_count": 42,
   "metadata": {},
   "outputs": [
    {
     "name": "stdout",
     "output_type": "stream",
     "text": [
      "Help on Client in module gspread.client object:\n",
      "\n",
      "class Client(builtins.object)\n",
      " |  Client(auth, session=None)\n",
      " |  \n",
      " |  An instance of this class communicates with Google API.\n",
      " |  \n",
      " |  :param auth: An OAuth2 credential object. Credential objects\n",
      " |      created by `google-auth <https://github.com/googleapis/google-auth-library-python>`_.\n",
      " |  \n",
      " |  :param session: (optional) A session object capable of making HTTP requests\n",
      " |      while persisting some parameters across requests.\n",
      " |      Defaults to `google.auth.transport.requests.AuthorizedSession <https://google-auth.readthedocs.io/en/latest/reference/google.auth.transport.requests.html#google.auth.transport.requests.AuthorizedSession>`_.\n",
      " |  \n",
      " |  >>> c = gspread.Client(auth=OAuthCredentialObject)\n",
      " |  \n",
      " |  Methods defined here:\n",
      " |  \n",
      " |  __init__(self, auth, session=None)\n",
      " |      Initialize self.  See help(type(self)) for accurate signature.\n",
      " |  \n",
      " |  copy(self, file_id, title=None, copy_permissions=False, folder_id=None)\n",
      " |      Copies a spreadsheet.\n",
      " |      \n",
      " |      :param str file_id: A key of a spreadsheet to copy.\n",
      " |      :param str title: (optional) A title for the new spreadsheet.\n",
      " |      \n",
      " |      :param bool copy_permissions: (optional) If True, copy permissions from\n",
      " |          the original spreadsheet to the new spreadsheet.\n",
      " |      \n",
      " |      :param str folder_id: Id of the folder where we want to save\n",
      " |          the spreadsheet.\n",
      " |      \n",
      " |      :returns: a :class:`~gspread.models.Spreadsheet` instance.\n",
      " |      \n",
      " |      .. versionadded:: 3.1.0\n",
      " |      \n",
      " |      .. note::\n",
      " |      \n",
      " |         If you're using custom credentials without the Drive scope, you need to add \n",
      " |         ``https://www.googleapis.com/auth/drive`` to your OAuth scope in order to use \n",
      " |         this method.\n",
      " |      \n",
      " |         Example::\n",
      " |      \n",
      " |            scope = [\n",
      " |                'https://www.googleapis.com/auth/spreadsheets',\n",
      " |                'https://www.googleapis.com/auth/drive'\n",
      " |            ]\n",
      " |      \n",
      " |         Otherwise, you will get an ``Insufficient Permission`` error\n",
      " |         when you try to copy a spreadsheet.\n",
      " |  \n",
      " |  create(self, title, folder_id=None)\n",
      " |      Creates a new spreadsheet.\n",
      " |      \n",
      " |      :param str title: A title of a new spreadsheet.\n",
      " |      \n",
      " |      :param str folder_id: Id of the folder where we want to save\n",
      " |          the spreadsheet.\n",
      " |      \n",
      " |      :returns: a :class:`~gspread.models.Spreadsheet` instance.\n",
      " |  \n",
      " |  del_spreadsheet(self, file_id)\n",
      " |      Deletes a spreadsheet.\n",
      " |      \n",
      " |      :param str file_id: a spreadsheet ID (a.k.a file ID).\n",
      " |  \n",
      " |  import_csv(self, file_id, data)\n",
      " |      Imports data into the first page of the spreadsheet.\n",
      " |      \n",
      " |      :param str data: A CSV string of data.\n",
      " |      \n",
      " |      Example:\n",
      " |      \n",
      " |      .. code::\n",
      " |      \n",
      " |          # Read CSV file contents\n",
      " |          content = open('file_to_import.csv', 'r').read()\n",
      " |      \n",
      " |          gc.import_csv(spreadsheet.id, content)\n",
      " |      \n",
      " |      .. note::\n",
      " |      \n",
      " |         This method removes all other worksheets and then entirely\n",
      " |         replaces the contents of the first worksheet.\n",
      " |  \n",
      " |  insert_permission(self, file_id, value, perm_type, role, notify=True, email_message=None, with_link=False)\n",
      " |      Creates a new permission for a file.\n",
      " |      \n",
      " |      :param str file_id: a spreadsheet ID (aka file ID).\n",
      " |      :param value: user or group e-mail address, domain name\n",
      " |          or None for 'default' type.\n",
      " |      :type value: str, None\n",
      " |      :param str perm_type: (optional) The account type.\n",
      " |          Allowed values are: ``user``, ``group``, ``domain``, ``anyone``\n",
      " |      :param str role: (optional) The primary role for this user.\n",
      " |          Allowed values are: ``owner``, ``writer``, ``reader``\n",
      " |      :param str notify: (optional) Whether to send an email to the target\n",
      " |          user/domain.\n",
      " |      :param str email_message: (optional) An email message to be sent\n",
      " |          if ``notify=True``.\n",
      " |      :param bool with_link: (optional) Whether the link is required for this\n",
      " |          permission to be active.\n",
      " |      \n",
      " |      Examples::\n",
      " |      \n",
      " |          # Give write permissions to otto@example.com\n",
      " |      \n",
      " |          gc.insert_permission(\n",
      " |              '0BmgG6nO_6dprnRRUWl1UFE',\n",
      " |              'otto@example.org',\n",
      " |              perm_type='user',\n",
      " |              role='writer'\n",
      " |          )\n",
      " |      \n",
      " |          # Make the spreadsheet publicly readable\n",
      " |      \n",
      " |          gc.insert_permission(\n",
      " |              '0BmgG6nO_6dprnRRUWl1UFE',\n",
      " |              None,\n",
      " |              perm_type='anyone',\n",
      " |              role='reader'\n",
      " |          )\n",
      " |  \n",
      " |  list_permissions(self, file_id)\n",
      " |      Retrieve a list of permissions for a file.\n",
      " |      \n",
      " |      :param str file_id: a spreadsheet ID (aka file ID).\n",
      " |  \n",
      " |  list_spreadsheet_files(self, title=None)\n",
      " |  \n",
      " |  login(self)\n",
      " |  \n",
      " |  open(self, title)\n",
      " |      Opens a spreadsheet.\n",
      " |      \n",
      " |      :param str title: A title of a spreadsheet.\n",
      " |      :returns: a :class:`~gspread.models.Spreadsheet` instance.\n",
      " |      \n",
      " |      If there's more than one spreadsheet with same title the first one\n",
      " |      will be opened.\n",
      " |      \n",
      " |      :raises gspread.SpreadsheetNotFound: if no spreadsheet with\n",
      " |                                           specified `title` is found.\n",
      " |      \n",
      " |      >>> gc.open('My fancy spreadsheet')\n",
      " |  \n",
      " |  open_by_key(self, key)\n",
      " |      Opens a spreadsheet specified by `key` (a.k.a Spreadsheet ID).\n",
      " |      \n",
      " |      :param str key: A key of a spreadsheet as it appears in a URL in a browser.\n",
      " |      :returns: a :class:`~gspread.models.Spreadsheet` instance.\n",
      " |      \n",
      " |      >>> gc.open_by_key('0BmgG6nO_6dprdS1MN3d3MkdPa142WFRrdnRRUWl1UFE')\n",
      " |  \n",
      " |  open_by_url(self, url)\n",
      " |      Opens a spreadsheet specified by `url`.\n",
      " |      \n",
      " |      :param str url: URL of a spreadsheet as it appears in a browser.\n",
      " |      \n",
      " |      :returns: a :class:`~gspread.models.Spreadsheet` instance.\n",
      " |      \n",
      " |      :raises gspread.SpreadsheetNotFound: if no spreadsheet with\n",
      " |                                           specified `url` is found.\n",
      " |      \n",
      " |      >>> gc.open_by_url('https://docs.google.com/spreadsheet/ccc?key=0Bm...FE&hl')\n",
      " |  \n",
      " |  openall(self, title=None)\n",
      " |      Opens all available spreadsheets.\n",
      " |      \n",
      " |      :param str title: (optional) If specified can be used to filter\n",
      " |          spreadsheets by title.\n",
      " |      \n",
      " |      :returns: a list of :class:`~gspread.models.Spreadsheet` instances.\n",
      " |  \n",
      " |  remove_permission(self, file_id, permission_id)\n",
      " |      Deletes a permission from a file.\n",
      " |      \n",
      " |      :param str file_id: a spreadsheet ID (aka file ID.)\n",
      " |      :param str permission_id: an ID for the permission.\n",
      " |  \n",
      " |  request(self, method, endpoint, params=None, data=None, json=None, files=None, headers=None)\n",
      " |  \n",
      " |  ----------------------------------------------------------------------\n",
      " |  Data descriptors defined here:\n",
      " |  \n",
      " |  __dict__\n",
      " |      dictionary for instance variables (if defined)\n",
      " |  \n",
      " |  __weakref__\n",
      " |      list of weak references to the object (if defined)\n",
      "\n"
     ]
    }
   ],
   "source": [
    "import gspread\n",
    "\n",
    "client = gspread.authorize(creds)\n",
    "help(client)"
   ]
  },
  {
   "cell_type": "code",
   "execution_count": 65,
   "metadata": {
    "scrolled": true
   },
   "outputs": [
    {
     "data": {
      "text/plain": [
       "<Spreadsheet 'Internship Details (Responses)' id:18eQ5K7B-A1XLxmcy-W_ZlZ9ddDMnxhaIqzyHn0XDDOM>"
      ]
     },
     "execution_count": 65,
     "metadata": {},
     "output_type": "execute_result"
    }
   ],
   "source": [
    "url = 'https://docs.google.com/spreadsheets/d/18eQ5K7B-A1XLxmcy-W_ZlZ9ddDMnxhaIqzyHn0XDDOM/edit?usp=sharing'\n",
    "sheet = client.open_by_url(url) \n",
    "sheet"
   ]
  },
  {
   "cell_type": "code",
   "execution_count": 52,
   "metadata": {},
   "outputs": [
    {
     "data": {
      "text/plain": [
       "{'kind': 'drive#file',\n",
       " 'id': '1adTUFczvZ9nr3PWl1xpaxoHnx4D9oJb08Md_5X9BBcU',\n",
       " 'name': 'Copy of Internship Details (Responses)',\n",
       " 'mimeType': 'application/vnd.google-apps.spreadsheet'}"
      ]
     },
     "execution_count": 52,
     "metadata": {},
     "output_type": "execute_result"
    }
   ],
   "source": [
    "# from googleapiclient.discovery import build\n",
    "# service = build('drive', 'v3', credentials=creds)\n",
    "# ID_OF_THE_EXCEL_FILE = '18eQ5K7B-A1XLxmcy-W_ZlZ9ddDMnxhaIqzyHn0XDDOM'\n",
    "# service.files().copy(fileId=ID_OF_THE_EXCEL_FILE, body={\"mimeType\":\"application/vnd.google-apps.spreadsheet\"}).execute() "
   ]
  },
  {
   "cell_type": "code",
   "execution_count": 44,
   "metadata": {
    "scrolled": true
   },
   "outputs": [],
   "source": [
    "# sheet.share('hellovickykumar123@gmail.com', perm_type='user', role='writer') "
   ]
  },
  {
   "cell_type": "code",
   "execution_count": 45,
   "metadata": {
    "scrolled": true
   },
   "outputs": [
    {
     "name": "stdout",
     "output_type": "stream",
     "text": [
      "hellovickykumar123@gmail.com\n",
      "ideationology@ideationology-lab.iam.gserviceaccount.com\n",
      "ideationology@ideationology-lab-339220.iam.gserviceaccount.com\n",
      "imvickykumar999@gmail.com\n"
     ]
    }
   ],
   "source": [
    "sp = sheet.list_permissions()\n",
    "for i in range(len(sp)):\n",
    "    print(sp[i]['emailAddress'])"
   ]
  },
  {
   "cell_type": "code",
   "execution_count": 46,
   "metadata": {},
   "outputs": [],
   "source": [
    "# client.insert_permission(\n",
    "#     '18eQ5K7B-A1XLxmcy-W_ZlZ9ddDMnxhaIqzyHn0XDDOM',\n",
    "#     'imvickykumar999@gmail.com',\n",
    "#     perm_type='user',\n",
    "#     role='writer'\n",
    "# )"
   ]
  },
  {
   "cell_type": "code",
   "execution_count": 60,
   "metadata": {
    "scrolled": true
   },
   "outputs": [
    {
     "data": {
      "text/plain": [
       "<Spreadsheet 'Internship Details (Responses)' id:18eQ5K7B-A1XLxmcy-W_ZlZ9ddDMnxhaIqzyHn0XDDOM>"
      ]
     },
     "execution_count": 60,
     "metadata": {},
     "output_type": "execute_result"
    }
   ],
   "source": [
    "sht = client.open_by_key('18eQ5K7B-A1XLxmcy-W_ZlZ9ddDMnxhaIqzyHn0XDDOM')\n",
    "sht"
   ]
  },
  {
   "cell_type": "code",
   "execution_count": 62,
   "metadata": {
    "scrolled": true
   },
   "outputs": [
    {
     "data": {
      "text/plain": [
       "[{'Timestamp': '9/1/2021 17:14:37',\n",
       "  'Email Address': 'puria8387@gmail.com',\n",
       "  'Name': 'Anil Puri Goswami',\n",
       "  'Roll. no.': '18erecs008',\n",
       "  'Internship Institute Name': 'Sparks',\n",
       "  'Course': 'Mobile app development',\n",
       "  'Course Duration (in days)': 21},\n",
       " {'Timestamp': '9/1/2021 17:15:02',\n",
       "  'Email Address': 'imvickykumar999@gmail.com',\n",
       "  'Name': 'Vicky Kumar',\n",
       "  'Roll. no.': '18ERECS080',\n",
       "  'Internship Institute Name': 'The Spark Foundation',\n",
       "  'Course': 'Data Science and Business',\n",
       "  'Course Duration (in days)': 30},\n",
       " {'Timestamp': '9/1/2021 17:16:02',\n",
       "  'Email Address': 'ayushsaini2911@gmail.com',\n",
       "  'Name': 'Ayush Saini',\n",
       "  'Roll. no.': '18ERECS014',\n",
       "  'Internship Institute Name': \"1. CUREYA 2. Let's grow more 3. The Spark Foundation\",\n",
       "  'Course': 'Web Developer and Design',\n",
       "  'Course Duration (in days)': '8 weeks'},\n",
       " {'Timestamp': '9/1/2021 17:18:56',\n",
       "  'Email Address': 'somya342000@gmail.com',\n",
       "  'Name': 'Somya Nagar',\n",
       "  'Roll. no.': '18ERECS074',\n",
       "  'Internship Institute Name': 'letsgrowmore',\n",
       "  'Course': 'Web development',\n",
       "  'Course Duration (in days)': '30 days'},\n",
       " {'Timestamp': '9/1/2021 17:19:09',\n",
       "  'Email Address': 'girishsonu2000@gmail.com',\n",
       "  'Name': 'Girish Choudhary',\n",
       "  'Roll. no.': '18ERECS021',\n",
       "  'Internship Institute Name': 'REDHAT',\n",
       "  'Course': 'Red Hat OpenShift I: Containers & Kubernetes  (DO180)',\n",
       "  'Course Duration (in days)': 90},\n",
       " {'Timestamp': '9/1/2021 17:25:28',\n",
       "  'Email Address': 'ahmadnafees019@gmail.com',\n",
       "  'Name': 'NAFEES AHMAD',\n",
       "  'Roll. no.': '18ERECS039',\n",
       "  'Internship Institute Name': ' Cetpa Infotech Pvt Ltd',\n",
       "  'Course': 'Data Science using python',\n",
       "  'Course Duration (in days)': '6 Month'},\n",
       " {'Timestamp': '9/1/2021 17:47:02',\n",
       "  'Email Address': 'madhurchauhan001256@gmail.com',\n",
       "  'Name': 'Madhur Chauhan',\n",
       "  'Roll. no.': '18ERECS033',\n",
       "  'Internship Institute Name': 'Cetpa Infotech Institute pvt. Ltd.',\n",
       "  'Course': 'Data Science with Python',\n",
       "  'Course Duration (in days)': 180},\n",
       " {'Timestamp': '9/1/2021 18:06:46',\n",
       "  'Email Address': '18erecs083.vikash@rietjaipur.ac.in',\n",
       "  'Name': 'VIKASH YADAV',\n",
       "  'Roll. no.': '18erecs083',\n",
       "  'Internship Institute Name': 'Genx soft Pvt. Ltd.',\n",
       "  'Course': 'PYTHON',\n",
       "  'Course Duration (in days)': 30},\n",
       " {'Timestamp': '9/1/2021 18:47:47',\n",
       "  'Email Address': '18erecs084.vinay@rietjaipur.ac.in',\n",
       "  'Name': 'Vinay Kumar Goyal',\n",
       "  'Roll. no.': '18ERECS084',\n",
       "  'Internship Institute Name': 'Genx Soft Pvt. Ltd.',\n",
       "  'Course': 'Python',\n",
       "  'Course Duration (in days)': '30days'},\n",
       " {'Timestamp': '9/1/2021 20:41:06',\n",
       "  'Email Address': '18erecs081.vijay@rietjaipur.ac.in',\n",
       "  'Name': 'Vijay Kumar Sharma',\n",
       "  'Roll. no.': '18ERECS081',\n",
       "  'Internship Institute Name': 'Genx Soft Pvt. Ltd.',\n",
       "  'Course': 'Python',\n",
       "  'Course Duration (in days)': 30},\n",
       " {'Timestamp': '9/1/2021 22:55:24',\n",
       "  'Email Address': 'raorj123@gmail.com',\n",
       "  'Name': 'Raj Kumar Yadav',\n",
       "  'Roll. no.': '18ERECS057',\n",
       "  'Internship Institute Name': 'Spark foundation',\n",
       "  'Course': 'Data Science & Business Analytics',\n",
       "  'Course Duration (in days)': 30},\n",
       " {'Timestamp': '9/2/2021 6:58:01',\n",
       "  'Email Address': 'shubhampareek9571@gmail.com',\n",
       "  'Name': 'Mahipal Pareek',\n",
       "  'Roll. no.': '18ERECS035',\n",
       "  'Internship Institute Name': 'The sparks foundation',\n",
       "  'Course': 'Data Science And Business Analytics',\n",
       "  'Course Duration (in days)': '30 days'},\n",
       " {'Timestamp': '9/2/2021 11:24:15',\n",
       "  'Email Address': 'pjadhavnsd@gmail.com',\n",
       "  'Name': 'PRIYANKA JADHAV',\n",
       "  'Roll. no.': '18ERECS055',\n",
       "  'Internship Institute Name': 'Letsgrowmore',\n",
       "  'Course': 'Android development',\n",
       "  'Course Duration (in days)': '31 days'},\n",
       " {'Timestamp': '9/3/2021 9:45:58',\n",
       "  'Email Address': '18erecs040.namrata@rietjaipur.ac.in',\n",
       "  'Name': 'Namrata Singh',\n",
       "  'Roll. no.': '18ERECS040',\n",
       "  'Internship Institute Name': 'INTERNSALA',\n",
       "  'Course': 'DATA SCIENCE',\n",
       "  'Course Duration (in days)': 45},\n",
       " {'Timestamp': '9/3/2021 14:55:31',\n",
       "  'Email Address': '18erecs067.saransh@rietjaipur.ac.in',\n",
       "  'Name': 'SARANSH Soni',\n",
       "  'Roll. no.': '18erecs067',\n",
       "  'Internship Institute Name': 'The sparks foundation',\n",
       "  'Course': 'Web development',\n",
       "  'Course Duration (in days)': '31 days'},\n",
       " {'Timestamp': '9/3/2021 17:01:21',\n",
       "  'Email Address': 'ankitmalpani1975@gmail.com',\n",
       "  'Name': 'Ankit Malpani',\n",
       "  'Roll. no.': '18ERECS009',\n",
       "  'Internship Institute Name': 'The Sparks Foundation',\n",
       "  'Course': 'Mobile App Development',\n",
       "  'Course Duration (in days)': '30 days'},\n",
       " {'Timestamp': '9/4/2021 13:01:00',\n",
       "  'Email Address': 'rb774244@gmail.com',\n",
       "  'Name': 'RATAN',\n",
       "  'Roll. no.': '18erecs060',\n",
       "  'Internship Institute Name': 'Uprevol',\n",
       "  'Course': 'Backend developer',\n",
       "  'Course Duration (in days)': 90}]"
      ]
     },
     "execution_count": 62,
     "metadata": {},
     "output_type": "execute_result"
    }
   ],
   "source": [
    "wks = sht.get_worksheet(0)\n",
    "wks.get_all_records()"
   ]
  },
  {
   "cell_type": "code",
   "execution_count": 58,
   "metadata": {},
   "outputs": [
    {
     "data": {
      "text/plain": [
       "<Spreadsheet 'Copy of Internship Details (Responses)' id:1adTUFczvZ9nr3PWl1xpaxoHnx4D9oJb08Md_5X9BBcU>"
      ]
     },
     "execution_count": 58,
     "metadata": {},
     "output_type": "execute_result"
    }
   ],
   "source": [
    "sht1 = client.open('Copy of Internship Details (Responses)')\n",
    "sht1"
   ]
  },
  {
   "cell_type": "code",
   "execution_count": 64,
   "metadata": {
    "scrolled": true
   },
   "outputs": [
    {
     "data": {
      "text/plain": [
       "[{'A1': 'A2', 'B1': 'B2', '4': 5, '': ''},\n",
       " {'A1': 4, 'B1': 5, '4': 6, '': ''},\n",
       " {'A1': 5, 'B1': 6, '4': 7, '': ''},\n",
       " {'A1': 6, 'B1': 7, '4': 8, '': ''},\n",
       " {'A1': 7, 'B1': 8, '4': 9, '': ''},\n",
       " {'A1': 8, 'B1': 9, '4': 10, '': ''},\n",
       " {'A1': 9, 'B1': 10, '4': 11, '': ''},\n",
       " {'A1': 10, 'B1': 11, '4': 12, '': ''},\n",
       " {'A1': '', 'B1': '', '4': '', '': ''},\n",
       " {'A1': '', 'B1': '', '4': '', '': ''},\n",
       " {'A1': '',\n",
       "  'B1': \"it's down there somewhere, let me take another look.\",\n",
       "  '4': '',\n",
       "  '': ''},\n",
       " {'A1': '', 'B1': '', '4': '', '': ''},\n",
       " {'A1': '', 'B1': '', '4': '', '': ''},\n",
       " {'A1': '', 'B1': '', '4': '', '': ''},\n",
       " {'A1': '', 'B1': '', '4': '', '': ''},\n",
       " {'A1': '', 'B1': '', '4': '', '': ''},\n",
       " {'A1': '', 'B1': '', '4': '', '': ''},\n",
       " {'A1': '', 'B1': '', '4': '', '': ''},\n",
       " {'A1': '', 'B1': '', '4': '', '': ''},\n",
       " {'A1': '', 'B1': '', '4': '', '': ''},\n",
       " {'A1': '', 'B1': '', '4': '', '': ''},\n",
       " {'A1': '', 'B1': '', '4': '', '': ''},\n",
       " {'A1': '', 'B1': '', '4': '', '': ''},\n",
       " {'A1': '', 'B1': '', '4': '', '': ''},\n",
       " {'A1': '', 'B1': '', '4': '', '': ''},\n",
       " {'A1': '', 'B1': '', '4': '', '': ''},\n",
       " {'A1': '', 'B1': '', '4': '', '': ''},\n",
       " {'A1': '', 'B1': '', '4': '', '': ''},\n",
       " {'A1': '', 'B1': '', '4': '', '': ''},\n",
       " {'A1': '', 'B1': '', '4': '', '': ''},\n",
       " {'A1': '', 'B1': '', '4': '', '': ''},\n",
       " {'A1': '', 'B1': '', '4': '', '': ''},\n",
       " {'A1': '', 'B1': '', '4': '', '': ''},\n",
       " {'A1': '', 'B1': '', '4': '', '': ''},\n",
       " {'A1': '', 'B1': '', '4': '', '': ''},\n",
       " {'A1': '', 'B1': '', '4': '', '': ''},\n",
       " {'A1': '', 'B1': '', '4': '', '': ''},\n",
       " {'A1': '', 'B1': '', '4': '', '': ''},\n",
       " {'A1': '', 'B1': '', '4': '', '': ''},\n",
       " {'A1': '', 'B1': '', '4': '', '': ''},\n",
       " {'A1': '', 'B1': '', '4': '', '': 2},\n",
       " {'A1': '', 'B1': '', '4': '', '': 4},\n",
       " {'A1': '', 'B1': '', '4': '', '': 6}]"
      ]
     },
     "execution_count": 64,
     "metadata": {},
     "output_type": "execute_result"
    }
   ],
   "source": [
    "wks = sht1.get_worksheet(1)\n",
    "wks.get_all_records()"
   ]
  },
  {
   "cell_type": "code",
   "execution_count": 67,
   "metadata": {},
   "outputs": [],
   "source": [
    "# DANGER Code :\n",
    "\n",
    "# worksheet = sheet.get_worksheet(1)\n",
    "# sheet.del_worksheet(worksheet)"
   ]
  },
  {
   "cell_type": "code",
   "execution_count": 57,
   "metadata": {},
   "outputs": [],
   "source": [
    "# remid = 'hellovickykumar123@gmail.com'"
   ]
  },
  {
   "cell_type": "code",
   "execution_count": 56,
   "metadata": {
    "scrolled": true
   },
   "outputs": [],
   "source": [
    "# sheet.remove_permissions(remid)\n",
    "# sheet.remove_permissions(remid, role='writer')\n",
    "\n",
    "# error :\n",
    "# APIError: {'errors': [{'domain': 'global', 'reason': 'forbidden', 'message': 'Insufficient permissions for this file', 'locationType': 'other', 'location': 'file.permissions'}], 'code': 403, 'message': 'Insufficient permissions for this file'}  "
   ]
  },
  {
   "cell_type": "code",
   "execution_count": 69,
   "metadata": {
    "scrolled": true
   },
   "outputs": [
    {
     "data": {
      "text/plain": [
       "[{'Timestamp': '9/1/2021 17:14:37',\n",
       "  'Email Address': 'puria8387@gmail.com',\n",
       "  'Name': 'Anil Puri Goswami',\n",
       "  'Roll. no.': '18erecs008',\n",
       "  'Internship Institute Name': 'Sparks',\n",
       "  'Course': 'Mobile app development',\n",
       "  'Course Duration (in days)': 21},\n",
       " {'Timestamp': '9/1/2021 17:15:02',\n",
       "  'Email Address': 'imvickykumar999@gmail.com',\n",
       "  'Name': 'Vicky Kumar',\n",
       "  'Roll. no.': '18ERECS080',\n",
       "  'Internship Institute Name': 'The Spark Foundation',\n",
       "  'Course': 'Data Science and Business',\n",
       "  'Course Duration (in days)': 30},\n",
       " {'Timestamp': '9/1/2021 17:16:02',\n",
       "  'Email Address': 'ayushsaini2911@gmail.com',\n",
       "  'Name': 'Ayush Saini',\n",
       "  'Roll. no.': '18ERECS014',\n",
       "  'Internship Institute Name': \"1. CUREYA 2. Let's grow more 3. The Spark Foundation\",\n",
       "  'Course': 'Web Developer and Design',\n",
       "  'Course Duration (in days)': '8 weeks'},\n",
       " {'Timestamp': '9/1/2021 17:18:56',\n",
       "  'Email Address': 'somya342000@gmail.com',\n",
       "  'Name': 'Somya Nagar',\n",
       "  'Roll. no.': '18ERECS074',\n",
       "  'Internship Institute Name': 'letsgrowmore',\n",
       "  'Course': 'Web development',\n",
       "  'Course Duration (in days)': '30 days'},\n",
       " {'Timestamp': '9/1/2021 17:19:09',\n",
       "  'Email Address': 'girishsonu2000@gmail.com',\n",
       "  'Name': 'Girish Choudhary',\n",
       "  'Roll. no.': '18ERECS021',\n",
       "  'Internship Institute Name': 'REDHAT',\n",
       "  'Course': 'Red Hat OpenShift I: Containers & Kubernetes  (DO180)',\n",
       "  'Course Duration (in days)': 90},\n",
       " {'Timestamp': '9/1/2021 17:25:28',\n",
       "  'Email Address': 'ahmadnafees019@gmail.com',\n",
       "  'Name': 'NAFEES AHMAD',\n",
       "  'Roll. no.': '18ERECS039',\n",
       "  'Internship Institute Name': ' Cetpa Infotech Pvt Ltd',\n",
       "  'Course': 'Data Science using python',\n",
       "  'Course Duration (in days)': '6 Month'},\n",
       " {'Timestamp': '9/1/2021 17:47:02',\n",
       "  'Email Address': 'madhurchauhan001256@gmail.com',\n",
       "  'Name': 'Madhur Chauhan',\n",
       "  'Roll. no.': '18ERECS033',\n",
       "  'Internship Institute Name': 'Cetpa Infotech Institute pvt. Ltd.',\n",
       "  'Course': 'Data Science with Python',\n",
       "  'Course Duration (in days)': 180},\n",
       " {'Timestamp': '9/1/2021 18:06:46',\n",
       "  'Email Address': '18erecs083.vikash@rietjaipur.ac.in',\n",
       "  'Name': 'VIKASH YADAV',\n",
       "  'Roll. no.': '18erecs083',\n",
       "  'Internship Institute Name': 'Genx soft Pvt. Ltd.',\n",
       "  'Course': 'PYTHON',\n",
       "  'Course Duration (in days)': 30},\n",
       " {'Timestamp': '9/1/2021 18:47:47',\n",
       "  'Email Address': '18erecs084.vinay@rietjaipur.ac.in',\n",
       "  'Name': 'Vinay Kumar Goyal',\n",
       "  'Roll. no.': '18ERECS084',\n",
       "  'Internship Institute Name': 'Genx Soft Pvt. Ltd.',\n",
       "  'Course': 'Python',\n",
       "  'Course Duration (in days)': '30days'},\n",
       " {'Timestamp': '9/1/2021 20:41:06',\n",
       "  'Email Address': '18erecs081.vijay@rietjaipur.ac.in',\n",
       "  'Name': 'Vijay Kumar Sharma',\n",
       "  'Roll. no.': '18ERECS081',\n",
       "  'Internship Institute Name': 'Genx Soft Pvt. Ltd.',\n",
       "  'Course': 'Python',\n",
       "  'Course Duration (in days)': 30},\n",
       " {'Timestamp': '9/1/2021 22:55:24',\n",
       "  'Email Address': 'raorj123@gmail.com',\n",
       "  'Name': 'Raj Kumar Yadav',\n",
       "  'Roll. no.': '18ERECS057',\n",
       "  'Internship Institute Name': 'Spark foundation',\n",
       "  'Course': 'Data Science & Business Analytics',\n",
       "  'Course Duration (in days)': 30},\n",
       " {'Timestamp': '9/2/2021 6:58:01',\n",
       "  'Email Address': 'shubhampareek9571@gmail.com',\n",
       "  'Name': 'Mahipal Pareek',\n",
       "  'Roll. no.': '18ERECS035',\n",
       "  'Internship Institute Name': 'The sparks foundation',\n",
       "  'Course': 'Data Science And Business Analytics',\n",
       "  'Course Duration (in days)': '30 days'},\n",
       " {'Timestamp': '9/2/2021 11:24:15',\n",
       "  'Email Address': 'pjadhavnsd@gmail.com',\n",
       "  'Name': 'PRIYANKA JADHAV',\n",
       "  'Roll. no.': '18ERECS055',\n",
       "  'Internship Institute Name': 'Letsgrowmore',\n",
       "  'Course': 'Android development',\n",
       "  'Course Duration (in days)': '31 days'},\n",
       " {'Timestamp': '9/3/2021 9:45:58',\n",
       "  'Email Address': '18erecs040.namrata@rietjaipur.ac.in',\n",
       "  'Name': 'Namrata Singh',\n",
       "  'Roll. no.': '18ERECS040',\n",
       "  'Internship Institute Name': 'INTERNSALA',\n",
       "  'Course': 'DATA SCIENCE',\n",
       "  'Course Duration (in days)': 45},\n",
       " {'Timestamp': '9/3/2021 14:55:31',\n",
       "  'Email Address': '18erecs067.saransh@rietjaipur.ac.in',\n",
       "  'Name': 'SARANSH Soni',\n",
       "  'Roll. no.': '18erecs067',\n",
       "  'Internship Institute Name': 'The sparks foundation',\n",
       "  'Course': 'Web development',\n",
       "  'Course Duration (in days)': '31 days'},\n",
       " {'Timestamp': '9/3/2021 17:01:21',\n",
       "  'Email Address': 'ankitmalpani1975@gmail.com',\n",
       "  'Name': 'Ankit Malpani',\n",
       "  'Roll. no.': '18ERECS009',\n",
       "  'Internship Institute Name': 'The Sparks Foundation',\n",
       "  'Course': 'Mobile App Development',\n",
       "  'Course Duration (in days)': '30 days'},\n",
       " {'Timestamp': '9/4/2021 13:01:00',\n",
       "  'Email Address': 'rb774244@gmail.com',\n",
       "  'Name': 'RATAN',\n",
       "  'Roll. no.': '18erecs060',\n",
       "  'Internship Institute Name': 'Uprevol',\n",
       "  'Course': 'Backend developer',\n",
       "  'Course Duration (in days)': 90}]"
      ]
     },
     "execution_count": 69,
     "metadata": {},
     "output_type": "execute_result"
    }
   ],
   "source": [
    "wks = sheet.get_worksheet(0)\n",
    "wks.get_all_records()"
   ]
  },
  {
   "cell_type": "code",
   "execution_count": 37,
   "metadata": {},
   "outputs": [],
   "source": [
    "# sheet.share('hellovickykumar123@gmail.com', perm_type='user', role='writer')"
   ]
  },
  {
   "cell_type": "code",
   "execution_count": 9,
   "metadata": {},
   "outputs": [],
   "source": [
    "# wks.update('A1', [[1, 2], [3, 4]])"
   ]
  },
  {
   "cell_type": "code",
   "execution_count": 10,
   "metadata": {},
   "outputs": [],
   "source": [
    "# wks.update('B12', \"it's down there somewhere, let me take another look.\")"
   ]
  },
  {
   "cell_type": "code",
   "execution_count": 11,
   "metadata": {
    "scrolled": true
   },
   "outputs": [],
   "source": [
    "# https://github.com/imvickykumar999/gspread#updating-cells\n",
    "    \n",
    "# # Update a single cell\n",
    "# worksheet.update('B13', 'Bingo!')\n",
    "\n",
    "# # Update a range\n",
    "# worksheet.update('A1:B2', [[1, 2], [3, 4]])\n",
    "\n",
    "# # Update multiple ranges at once\n",
    "# worksheet.batch_update([{\n",
    "#     'range': 'A1:B2',\n",
    "#     'values': [['A1', 'B1'], ['A2', 'B2']],\n",
    "# }, {\n",
    "#     'range': 'J42:K43',\n",
    "#     'values': [[1, 2], [3, 4]],\n",
    "# }])"
   ]
  },
  {
   "cell_type": "code",
   "execution_count": 12,
   "metadata": {},
   "outputs": [],
   "source": [
    "# wks.format('A1:C8', {'textFormat': {'bold': True}})"
   ]
  },
  {
   "cell_type": "code",
   "execution_count": 13,
   "metadata": {},
   "outputs": [],
   "source": [
    "# import gspread\n",
    "# gc = gspread.authorize(creds)\n",
    "# gc"
   ]
  },
  {
   "cell_type": "code",
   "execution_count": 14,
   "metadata": {},
   "outputs": [],
   "source": [
    "# sh = gc.create('A new spreadsheet')\n",
    "# sh"
   ]
  },
  {
   "cell_type": "code",
   "execution_count": 77,
   "metadata": {},
   "outputs": [],
   "source": [
    "# sh.share('imvickykumar999@gmail.com', perm_type='user', role='writer')"
   ]
  },
  {
   "cell_type": "code",
   "execution_count": 70,
   "metadata": {},
   "outputs": [
    {
     "data": {
      "text/plain": [
       "[<Worksheet 'Form Responses 1' id:30127793>]"
      ]
     },
     "execution_count": 70,
     "metadata": {},
     "output_type": "execute_result"
    }
   ],
   "source": [
    "worksheet_list = sheet.worksheets()\n",
    "worksheet_list"
   ]
  },
  {
   "cell_type": "code",
   "execution_count": 71,
   "metadata": {
    "scrolled": true
   },
   "outputs": [
    {
     "data": {
      "text/plain": [
       "<Worksheet 'A worksheet' id:420606276>"
      ]
     },
     "execution_count": 71,
     "metadata": {},
     "output_type": "execute_result"
    }
   ],
   "source": [
    "worksheet = sheet.add_worksheet(title=\"A worksheet\", rows=\"100\", cols=\"20\")\n",
    "worksheet"
   ]
  },
  {
   "cell_type": "code",
   "execution_count": 81,
   "metadata": {
    "scrolled": true
   },
   "outputs": [],
   "source": [
    "# wks = sheet.get_worksheet(1)\n",
    "# wks.get_all_records()"
   ]
  },
  {
   "cell_type": "code",
   "execution_count": 87,
   "metadata": {},
   "outputs": [
    {
     "data": {
      "text/plain": [
       "'Bingo!'"
      ]
     },
     "execution_count": 87,
     "metadata": {},
     "output_type": "execute_result"
    }
   ],
   "source": [
    "valc = worksheet.cell(1, 2)\n",
    "valc.value"
   ]
  },
  {
   "cell_type": "code",
   "execution_count": 85,
   "metadata": {},
   "outputs": [
    {
     "data": {
      "text/plain": [
       "[['Bingo!']]"
      ]
     },
     "execution_count": 85,
     "metadata": {},
     "output_type": "execute_result"
    }
   ],
   "source": [
    "vall = worksheet.get('B1')\n",
    "vall"
   ]
  },
  {
   "cell_type": "code",
   "execution_count": 72,
   "metadata": {},
   "outputs": [
    {
     "data": {
      "text/plain": [
       "{'spreadsheetId': '18eQ5K7B-A1XLxmcy-W_ZlZ9ddDMnxhaIqzyHn0XDDOM',\n",
       " 'updatedRange': \"'A worksheet'!B1\",\n",
       " 'updatedRows': 1,\n",
       " 'updatedColumns': 1,\n",
       " 'updatedCells': 1}"
      ]
     },
     "execution_count": 72,
     "metadata": {},
     "output_type": "execute_result"
    }
   ],
   "source": [
    "worksheet.update('B1', 'Bingo!')"
   ]
  },
  {
   "cell_type": "code",
   "execution_count": null,
   "metadata": {},
   "outputs": [],
   "source": []
  }
 ],
 "metadata": {
  "kernelspec": {
   "display_name": "Python 3",
   "language": "python",
   "name": "python3"
  },
  "language_info": {
   "codemirror_mode": {
    "name": "ipython",
    "version": 3
   },
   "file_extension": ".py",
   "mimetype": "text/x-python",
   "name": "python",
   "nbconvert_exporter": "python",
   "pygments_lexer": "ipython3",
   "version": "3.8.3"
  }
 },
 "nbformat": 4,
 "nbformat_minor": 4
}
